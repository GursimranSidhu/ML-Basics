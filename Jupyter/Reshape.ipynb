{
 "cells": [
  {
   "cell_type": "code",
   "execution_count": 1,
   "id": "bb213398-103f-4406-8f5c-38e13795ba40",
   "metadata": {},
   "outputs": [],
   "source": [
    "# reshaping in nd arrays\n",
    "# reshape: this is a methhod that helps to reshape the shape of the data"
   ]
  },
  {
   "cell_type": "code",
   "execution_count": null,
   "id": "088909c3-bcf5-4f34-a450-3f6a1bba34d5",
   "metadata": {},
   "outputs": [],
   "source": []
  },
  {
   "cell_type": "code",
   "execution_count": 4,
   "id": "d74570d9-0334-4caa-81b7-556a0b193d0d",
   "metadata": {},
   "outputs": [],
   "source": [
    "# 1D ndarray----> 2D ndarray"
   ]
  },
  {
   "cell_type": "code",
   "execution_count": 8,
   "id": "5afdca6b-04fd-4945-9a3b-0a904455cfb0",
   "metadata": {},
   "outputs": [],
   "source": [
    "import numpy as np"
   ]
  },
  {
   "cell_type": "code",
   "execution_count": 10,
   "id": "f3f76dbe-7359-4cda-bbcc-73c9095dba5d",
   "metadata": {},
   "outputs": [],
   "source": [
    "arr=np.array([1,2,3,4,5,6])"
   ]
  },
  {
   "cell_type": "code",
   "execution_count": 12,
   "id": "26330beb-e1e2-44fb-adf4-9d095358661e",
   "metadata": {},
   "outputs": [
    {
     "data": {
      "text/plain": [
       "1"
      ]
     },
     "execution_count": 12,
     "metadata": {},
     "output_type": "execute_result"
    }
   ],
   "source": [
    "arr.ndim"
   ]
  },
  {
   "cell_type": "code",
   "execution_count": 14,
   "id": "a5d551bd-d5e3-44dd-8996-f59817a00fda",
   "metadata": {},
   "outputs": [],
   "source": [
    "# syntax\n",
    "# np.reshape(objectnamae, shape)\n",
    "# or\n",
    "# objectname.reshape(shape)"
   ]
  },
  {
   "cell_type": "code",
   "execution_count": 16,
   "id": "fbda26ad-ebf1-42a8-9abe-f7063390de11",
   "metadata": {},
   "outputs": [],
   "source": [
    "arr=np.array([1,2,3,4,5])"
   ]
  },
  {
   "cell_type": "code",
   "execution_count": 18,
   "id": "a370250d-a1f1-48a1-b6d9-4423a0884498",
   "metadata": {},
   "outputs": [],
   "source": [
    "xyz=np.reshape(arr,(5,1))"
   ]
  },
  {
   "cell_type": "code",
   "execution_count": 20,
   "id": "aad71d3b-81fe-429e-ba0b-a3f3da7b1c94",
   "metadata": {},
   "outputs": [
    {
     "data": {
      "text/plain": [
       "2"
      ]
     },
     "execution_count": 20,
     "metadata": {},
     "output_type": "execute_result"
    }
   ],
   "source": [
    "xyz.ndim"
   ]
  },
  {
   "cell_type": "code",
   "execution_count": 22,
   "id": "d42dc7e5-509e-4c97-bb6b-b7d64f9db6fa",
   "metadata": {},
   "outputs": [],
   "source": [
    "arr=np.array([1,2,3,4,5,6])"
   ]
  },
  {
   "cell_type": "code",
   "execution_count": 24,
   "id": "6f1c41f5-50fb-4e9c-a416-c8c9663b6ac1",
   "metadata": {},
   "outputs": [
    {
     "data": {
      "text/plain": [
       "array([[1, 2, 3],\n",
       "       [4, 5, 6]])"
      ]
     },
     "execution_count": 24,
     "metadata": {},
     "output_type": "execute_result"
    }
   ],
   "source": [
    "np.reshape(arr,(2,3))"
   ]
  },
  {
   "cell_type": "code",
   "execution_count": 26,
   "id": "3b41e550-dbe1-4993-911d-05f2d5a8e03a",
   "metadata": {},
   "outputs": [],
   "source": [
    "# 2D----> 1D"
   ]
  },
  {
   "cell_type": "code",
   "execution_count": 28,
   "id": "d9b4d750-4f78-4b0f-b2b2-6b39a9b7a2bc",
   "metadata": {},
   "outputs": [],
   "source": [
    "arr=np.array([[1,2,3,4,5],[6,7,8,9,10]])"
   ]
  },
  {
   "cell_type": "code",
   "execution_count": 30,
   "id": "201afb43-cc79-4afb-9c6e-d9db02638b2e",
   "metadata": {},
   "outputs": [
    {
     "data": {
      "text/plain": [
       "array([[ 1,  2,  3,  4,  5],\n",
       "       [ 6,  7,  8,  9, 10]])"
      ]
     },
     "execution_count": 30,
     "metadata": {},
     "output_type": "execute_result"
    }
   ],
   "source": [
    "arr"
   ]
  },
  {
   "cell_type": "code",
   "execution_count": 32,
   "id": "3d95cbc1-546d-437a-b006-854dc3081c93",
   "metadata": {},
   "outputs": [
    {
     "data": {
      "text/plain": [
       "array([ 1,  2,  3,  4,  5,  6,  7,  8,  9, 10])"
      ]
     },
     "execution_count": 32,
     "metadata": {},
     "output_type": "execute_result"
    }
   ],
   "source": [
    "np.reshape(arr,10)"
   ]
  },
  {
   "cell_type": "code",
   "execution_count": 34,
   "id": "abf6c0f3-b6c7-4529-b631-0ac830f5b0eb",
   "metadata": {},
   "outputs": [],
   "source": [
    "# or"
   ]
  },
  {
   "cell_type": "code",
   "execution_count": 36,
   "id": "f3053049-665c-4719-9d79-e49fe5c11a7e",
   "metadata": {},
   "outputs": [],
   "source": [
    "xyz=np.reshape(arr,-1)"
   ]
  },
  {
   "cell_type": "code",
   "execution_count": 38,
   "id": "8e4ca61a-f228-4075-bf97-8190a468cf36",
   "metadata": {},
   "outputs": [
    {
     "data": {
      "text/plain": [
       "array([ 1,  2,  3,  4,  5,  6,  7,  8,  9, 10])"
      ]
     },
     "execution_count": 38,
     "metadata": {},
     "output_type": "execute_result"
    }
   ],
   "source": [
    "xyz"
   ]
  },
  {
   "cell_type": "code",
   "execution_count": 40,
   "id": "781d6e5e-30d6-4f1d-88e6-dd6c46f06023",
   "metadata": {},
   "outputs": [],
   "source": [
    "# 1d---> 2d"
   ]
  },
  {
   "cell_type": "code",
   "execution_count": 42,
   "id": "577d5b7e-3437-4e50-9332-78549c77e4aa",
   "metadata": {},
   "outputs": [],
   "source": [
    "# np.reshape(xyz,(2,-1))"
   ]
  },
  {
   "cell_type": "code",
   "execution_count": 44,
   "id": "da58616d-a0a9-4967-9ca7-d27e7d3c4659",
   "metadata": {},
   "outputs": [],
   "source": [
    "# or"
   ]
  },
  {
   "cell_type": "code",
   "execution_count": 46,
   "id": "95f78058-a7a6-4246-bafe-0ed673f32e0e",
   "metadata": {},
   "outputs": [
    {
     "data": {
      "text/plain": [
       "array([[ 1,  2],\n",
       "       [ 3,  4],\n",
       "       [ 5,  6],\n",
       "       [ 7,  8],\n",
       "       [ 9, 10]])"
      ]
     },
     "execution_count": 46,
     "metadata": {},
     "output_type": "execute_result"
    }
   ],
   "source": [
    "np.reshape(xyz,(-1,2))"
   ]
  },
  {
   "cell_type": "code",
   "execution_count": 48,
   "id": "926ca78b-3272-461a-a59d-579836155909",
   "metadata": {},
   "outputs": [],
   "source": [
    "#  -1 autoadjusts the number of columns or number of rows as required the other thing\n",
    "#  in 1d array -1 gets itself the number of columns by itself only instead of counting the number of elements"
   ]
  },
  {
   "cell_type": "code",
   "execution_count": 50,
   "id": "12b441a8-060d-4375-ae00-867fd0291bad",
   "metadata": {},
   "outputs": [],
   "source": [
    "# 1d---> 3d"
   ]
  },
  {
   "cell_type": "code",
   "execution_count": 52,
   "id": "37ba3397-30d0-44a9-82c2-1e5ac1b41f09",
   "metadata": {},
   "outputs": [],
   "source": [
    "arr=np.array([1,2,3,4,5,6,7,8,9,0])"
   ]
  },
  {
   "cell_type": "code",
   "execution_count": 54,
   "id": "3c542eaa-065a-4c68-bedc-e28c63d9ed22",
   "metadata": {},
   "outputs": [
    {
     "data": {
      "text/plain": [
       "array([[[1, 2]],\n",
       "\n",
       "       [[3, 4]],\n",
       "\n",
       "       [[5, 6]],\n",
       "\n",
       "       [[7, 8]],\n",
       "\n",
       "       [[9, 0]]])"
      ]
     },
     "execution_count": 54,
     "metadata": {},
     "output_type": "execute_result"
    }
   ],
   "source": [
    "np.reshape(arr,(5,1,2))"
   ]
  },
  {
   "cell_type": "code",
   "execution_count": 56,
   "id": "834408a9-7f53-4a67-a347-76cd973cbca4",
   "metadata": {},
   "outputs": [],
   "source": [
    "#  3d--->1d"
   ]
  },
  {
   "cell_type": "code",
   "execution_count": 58,
   "id": "2f468210-dd38-4014-b925-f1a4c59be48c",
   "metadata": {},
   "outputs": [],
   "source": [
    "arr1=np.array([[[ 1,  2]],[[ 3,  4]],[[ 5,  6]],[[ 7,  8]],[[ 9, 10]]])"
   ]
  },
  {
   "cell_type": "code",
   "execution_count": 60,
   "id": "48657644-7976-41ac-a00d-2ac945e4e39e",
   "metadata": {},
   "outputs": [],
   "source": [
    "r=np.reshape(arr1,-1)"
   ]
  },
  {
   "cell_type": "code",
   "execution_count": 62,
   "id": "8e34610e-7725-4762-a065-735af8614742",
   "metadata": {},
   "outputs": [
    {
     "data": {
      "text/plain": [
       "array([ 1,  2,  3,  4,  5,  6,  7,  8,  9, 10])"
      ]
     },
     "execution_count": 62,
     "metadata": {},
     "output_type": "execute_result"
    }
   ],
   "source": [
    "r"
   ]
  },
  {
   "cell_type": "code",
   "execution_count": 64,
   "id": "c7832abd-d9f5-4902-98c5-efcece9f41e5",
   "metadata": {},
   "outputs": [],
   "source": [
    "# sort() method is used to sort the ndarray in ascending array"
   ]
  },
  {
   "cell_type": "code",
   "execution_count": 66,
   "id": "5a8d5468-d482-44f9-9d15-20b644c03229",
   "metadata": {},
   "outputs": [],
   "source": [
    "arr2=np.array([1,4,3,7,2,6,9])"
   ]
  },
  {
   "cell_type": "code",
   "execution_count": 80,
   "id": "ab1fa60d-bf7c-4534-9d2d-bd9d67b9696d",
   "metadata": {},
   "outputs": [],
   "source": [
    "xyz=np.sort(arr2)"
   ]
  },
  {
   "cell_type": "code",
   "execution_count": 82,
   "id": "adb0cb03-42be-4b38-a85c-b972bd2367b1",
   "metadata": {},
   "outputs": [
    {
     "data": {
      "text/plain": [
       "array([1, 2, 3, 4, 6, 7, 9])"
      ]
     },
     "execution_count": 82,
     "metadata": {},
     "output_type": "execute_result"
    }
   ],
   "source": [
    "xyz"
   ]
  },
  {
   "cell_type": "code",
   "execution_count": 84,
   "id": "c487740d-8c46-4ce6-98bb-100f21cfa67c",
   "metadata": {},
   "outputs": [],
   "source": [
    "# to do it in desecding order"
   ]
  },
  {
   "cell_type": "code",
   "execution_count": 86,
   "id": "1e0a8799-4423-4e37-b793-bb97ec3b5c58",
   "metadata": {},
   "outputs": [],
   "source": [
    "abc=xyz[ : :-1]"
   ]
  },
  {
   "cell_type": "code",
   "execution_count": 88,
   "id": "d72d7941-3c49-4411-bc4f-cecc5b0bad43",
   "metadata": {},
   "outputs": [
    {
     "data": {
      "text/plain": [
       "array([9, 7, 6, 4, 3, 2, 1])"
      ]
     },
     "execution_count": 88,
     "metadata": {},
     "output_type": "execute_result"
    }
   ],
   "source": [
    "abc"
   ]
  },
  {
   "cell_type": "code",
   "execution_count": 90,
   "id": "edae87a1-7b86-4569-8134-fac073551e12",
   "metadata": {},
   "outputs": [],
   "source": [
    "# zeros"
   ]
  },
  {
   "cell_type": "code",
   "execution_count": 175,
   "id": "68c218ad-26e7-44be-8670-a67caf6ae25a",
   "metadata": {},
   "outputs": [],
   "source": [
    "zx=np.zeros((5,3))"
   ]
  },
  {
   "cell_type": "code",
   "execution_count": 177,
   "id": "2318e9e7-a995-4290-a0a7-a0e33e413541",
   "metadata": {},
   "outputs": [
    {
     "data": {
      "text/plain": [
       "array([[0., 0., 0.],\n",
       "       [0., 0., 0.],\n",
       "       [0., 0., 0.],\n",
       "       [0., 0., 0.],\n",
       "       [0., 0., 0.]])"
      ]
     },
     "execution_count": 177,
     "metadata": {},
     "output_type": "execute_result"
    }
   ],
   "source": [
    "zx"
   ]
  },
  {
   "cell_type": "code",
   "execution_count": 117,
   "id": "cb1d1a29-b31e-4234-8608-17aa6611c6f9",
   "metadata": {},
   "outputs": [],
   "source": [
    "# ones"
   ]
  },
  {
   "cell_type": "code",
   "execution_count": 183,
   "id": "98aaf5bb-ba78-47eb-8b3f-de80b62ec8f8",
   "metadata": {},
   "outputs": [],
   "source": [
    "po=np.ones((5,2))"
   ]
  },
  {
   "cell_type": "code",
   "execution_count": 185,
   "id": "a49099a0-6194-419c-afc1-2d664acd3525",
   "metadata": {},
   "outputs": [
    {
     "data": {
      "text/plain": [
       "array([[1., 1.],\n",
       "       [1., 1.],\n",
       "       [1., 1.],\n",
       "       [1., 1.],\n",
       "       [1., 1.]])"
      ]
     },
     "execution_count": 185,
     "metadata": {},
     "output_type": "execute_result"
    }
   ],
   "source": [
    "po"
   ]
  },
  {
   "cell_type": "code",
   "execution_count": 123,
   "id": "f7553038-5642-4ad9-8392-1f59c60d8d16",
   "metadata": {},
   "outputs": [],
   "source": [
    "# help() method used to know about any function/method"
   ]
  },
  {
   "cell_type": "code",
   "execution_count": null,
   "id": "1b17c044-da7f-4600-8fa1-e26e93c3e9dd",
   "metadata": {},
   "outputs": [],
   "source": [
    "# we have a function np.eye \n",
    "# syntax\n",
    "# help(functionname)"
   ]
  },
  {
   "cell_type": "code",
   "execution_count": 2,
   "id": "90b291cd-8b6a-44de-97c2-67838c8002d6",
   "metadata": {},
   "outputs": [],
   "source": [
    "# help(np.eye)"
   ]
  },
  {
   "cell_type": "code",
   "execution_count": 191,
   "id": "3d2fb748-735b-4510-84b8-98e8a53d8d68",
   "metadata": {},
   "outputs": [],
   "source": [
    "xyz=np.eye(3,3)"
   ]
  },
  {
   "cell_type": "code",
   "execution_count": 193,
   "id": "3afc6dcb-9bef-4a4f-9eb1-85f7de196aa3",
   "metadata": {},
   "outputs": [
    {
     "data": {
      "text/plain": [
       "array([[1., 0., 0.],\n",
       "       [0., 1., 0.],\n",
       "       [0., 0., 1.]])"
      ]
     },
     "execution_count": 193,
     "metadata": {},
     "output_type": "execute_result"
    }
   ],
   "source": [
    "xyz"
   ]
  },
  {
   "cell_type": "code",
   "execution_count": 125,
   "id": "6c199d7e-1370-437c-b2a6-4e3f8f64bc90",
   "metadata": {},
   "outputs": [],
   "source": [
    "#  combining nd arrays"
   ]
  },
  {
   "cell_type": "code",
   "execution_count": 129,
   "id": "484c8c73-d609-4b87-a6af-27c86e58931d",
   "metadata": {},
   "outputs": [],
   "source": [
    "x=np.array([1,2,3,4])\n",
    "y=np.array([5,6,7,8])"
   ]
  },
  {
   "cell_type": "code",
   "execution_count": 131,
   "id": "79ab9b41-7567-4d6c-b6b2-f651767ad31c",
   "metadata": {},
   "outputs": [
    {
     "data": {
      "text/plain": [
       "array([ 6,  8, 10, 12])"
      ]
     },
     "execution_count": 131,
     "metadata": {},
     "output_type": "execute_result"
    }
   ],
   "source": [
    "x+y"
   ]
  },
  {
   "cell_type": "code",
   "execution_count": 135,
   "id": "00f9bb20-7cea-4be7-af7b-e3ca57a02bcf",
   "metadata": {},
   "outputs": [],
   "source": [
    "#  we will use two method\n",
    "# concatinate\n",
    "# vstack"
   ]
  },
  {
   "cell_type": "code",
   "execution_count": 141,
   "id": "7694a726-f7e2-405c-ad52-9cb9b57201c8",
   "metadata": {},
   "outputs": [
    {
     "data": {
      "text/plain": [
       "array([1, 2, 3, 4, 5, 6, 7, 8])"
      ]
     },
     "execution_count": 141,
     "metadata": {},
     "output_type": "execute_result"
    }
   ],
   "source": [
    "np.concatenate((x,y))"
   ]
  },
  {
   "cell_type": "code",
   "execution_count": 143,
   "id": "4733562b-58d6-48ee-907f-91cfdf5c824c",
   "metadata": {},
   "outputs": [],
   "source": [
    "#  concatenate retirns 1d array"
   ]
  },
  {
   "cell_type": "code",
   "execution_count": 145,
   "id": "0293c9bb-7899-4f39-a75d-b58111fb400a",
   "metadata": {},
   "outputs": [
    {
     "data": {
      "text/plain": [
       "array([[1, 2, 3, 4],\n",
       "       [5, 6, 7, 8]])"
      ]
     },
     "execution_count": 145,
     "metadata": {},
     "output_type": "execute_result"
    }
   ],
   "source": [
    "np.vstack((x,y))"
   ]
  },
  {
   "cell_type": "code",
   "execution_count": 147,
   "id": "66ab583b-fee3-44de-ba08-3957edf4263b",
   "metadata": {},
   "outputs": [],
   "source": [
    "#  vstack returns array over an array. like here it returned 2d array"
   ]
  },
  {
   "cell_type": "code",
   "execution_count": 155,
   "id": "b6470ae7-cf29-4211-8eb2-52fc35a8790a",
   "metadata": {},
   "outputs": [],
   "source": [
    "a=np.array([1,2,3,4])\n",
    "b=np.array([5,6,7,8])\n",
    "c=np.array([9,0,11,12])"
   ]
  },
  {
   "cell_type": "code",
   "execution_count": 157,
   "id": "435be166-a1b9-4b0b-8a0a-dc96fa7bd13c",
   "metadata": {},
   "outputs": [
    {
     "data": {
      "text/plain": [
       "array([ 1,  2,  3,  4,  5,  6,  7,  8,  9,  0, 11, 12])"
      ]
     },
     "execution_count": 157,
     "metadata": {},
     "output_type": "execute_result"
    }
   ],
   "source": [
    "np.concatenate((a,b,c))"
   ]
  },
  {
   "cell_type": "code",
   "execution_count": 159,
   "id": "1015ecef-158f-4f79-8fa9-ba556904b4e2",
   "metadata": {},
   "outputs": [
    {
     "data": {
      "text/plain": [
       "array([[ 1,  2,  3,  4],\n",
       "       [ 5,  6,  7,  8],\n",
       "       [ 9,  0, 11, 12]])"
      ]
     },
     "execution_count": 159,
     "metadata": {},
     "output_type": "execute_result"
    }
   ],
   "source": [
    "np.vstack((a,b,c))"
   ]
  },
  {
   "cell_type": "code",
   "execution_count": null,
   "id": "475b6625-78ff-4e35-bd35-6c5950e07a2c",
   "metadata": {},
   "outputs": [],
   "source": []
  }
 ],
 "metadata": {
  "kernelspec": {
   "display_name": "Python 3 (ipykernel)",
   "language": "python",
   "name": "python3"
  },
  "language_info": {
   "codemirror_mode": {
    "name": "ipython",
    "version": 3
   },
   "file_extension": ".py",
   "mimetype": "text/x-python",
   "name": "python",
   "nbconvert_exporter": "python",
   "pygments_lexer": "ipython3",
   "version": "3.11.7"
  }
 },
 "nbformat": 4,
 "nbformat_minor": 5
}
