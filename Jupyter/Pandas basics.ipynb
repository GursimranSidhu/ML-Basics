{
 "cells": [
  {
   "cell_type": "code",
   "execution_count": 1,
   "id": "d1a89a7e-6307-4608-bbb8-5c203a0247b9",
   "metadata": {},
   "outputs": [
    {
     "name": "stdout",
     "output_type": "stream",
     "text": [
      "Requirement already satisfied: pandas in /opt/anaconda3/lib/python3.11/site-packages (2.1.4)\n",
      "Requirement already satisfied: numpy<2,>=1.23.2 in /opt/anaconda3/lib/python3.11/site-packages (from pandas) (1.26.4)\n",
      "Requirement already satisfied: python-dateutil>=2.8.2 in /opt/anaconda3/lib/python3.11/site-packages (from pandas) (2.8.2)\n",
      "Requirement already satisfied: pytz>=2020.1 in /opt/anaconda3/lib/python3.11/site-packages (from pandas) (2023.3.post1)\n",
      "Requirement already satisfied: tzdata>=2022.1 in /opt/anaconda3/lib/python3.11/site-packages (from pandas) (2023.3)\n",
      "Requirement already satisfied: six>=1.5 in /opt/anaconda3/lib/python3.11/site-packages (from python-dateutil>=2.8.2->pandas) (1.16.0)\n"
     ]
    }
   ],
   "source": [
    "!pip install pandas"
   ]
  },
  {
   "cell_type": "code",
   "execution_count": 3,
   "id": "b4015f9a-2349-44e2-8fb3-bfdeb01826bd",
   "metadata": {},
   "outputs": [],
   "source": [
    "import pandas as pd"
   ]
  },
  {
   "cell_type": "code",
   "execution_count": 5,
   "id": "80276d1f-fc35-4e6d-bf8b-a98721ff0659",
   "metadata": {},
   "outputs": [],
   "source": [
    "# pandas\n",
    "# 1) Data Analysys\n",
    "# 2) Data Exploring\n",
    "# 3) Data Cleaning\n",
    "# 4) Data Manipulation\n",
    "\n",
    "# pandas---> Excel, CSV (Comma Separated Values), json"
   ]
  },
  {
   "cell_type": "code",
   "execution_count": 7,
   "id": "06f32a24-23b9-4910-b900-0cc40e34e6ef",
   "metadata": {},
   "outputs": [],
   "source": [
    "# Data structures in pandas\n",
    "\n",
    "# 1) Series\n",
    "# 2) DataFrame"
   ]
  },
  {
   "cell_type": "code",
   "execution_count": 9,
   "id": "b1c6ae8a-a7f6-439a-b19d-1c37dec57d1b",
   "metadata": {},
   "outputs": [],
   "source": [
    "# Series: a single column in a table\n",
    "\n",
    "# Dataframe: collection of series"
   ]
  },
  {
   "cell_type": "code",
   "execution_count": 11,
   "id": "742ca0be-8102-4ee4-a071-6766d2e7221e",
   "metadata": {},
   "outputs": [],
   "source": [
    "usernames=[\"krlss\",\"moris\",\"hey\",\"ok\",\"ayush\",\"hello world\"]"
   ]
  },
  {
   "cell_type": "code",
   "execution_count": 15,
   "id": "1ad51fd2-5a46-4c79-8db9-2ec8164958d1",
   "metadata": {},
   "outputs": [
    {
     "data": {
      "text/plain": [
       "list"
      ]
     },
     "execution_count": 15,
     "metadata": {},
     "output_type": "execute_result"
    }
   ],
   "source": [
    "type(usernames)"
   ]
  },
  {
   "cell_type": "code",
   "execution_count": 17,
   "id": "32ca62fa-0875-42f1-af75-3036da931aeb",
   "metadata": {},
   "outputs": [],
   "source": [
    "data=pd.Series(usernames)"
   ]
  },
  {
   "cell_type": "code",
   "execution_count": 19,
   "id": "e334abfc-3bef-4177-8121-59967748f5f9",
   "metadata": {},
   "outputs": [
    {
     "data": {
      "text/plain": [
       "0          krlss\n",
       "1          moris\n",
       "2            hey\n",
       "3             ok\n",
       "4          ayush\n",
       "5    hello world\n",
       "dtype: object"
      ]
     },
     "execution_count": 19,
     "metadata": {},
     "output_type": "execute_result"
    }
   ],
   "source": [
    "data"
   ]
  },
  {
   "cell_type": "code",
   "execution_count": 21,
   "id": "084b70eb-8f4c-4ff0-abc4-d74d8d35d583",
   "metadata": {},
   "outputs": [
    {
     "data": {
      "text/plain": [
       "'ayush'"
      ]
     },
     "execution_count": 21,
     "metadata": {},
     "output_type": "execute_result"
    }
   ],
   "source": [
    "data[4]"
   ]
  },
  {
   "cell_type": "code",
   "execution_count": 25,
   "id": "00979ffb-3ffc-47de-bff3-4801eb1f2def",
   "metadata": {},
   "outputs": [],
   "source": [
    "# change indexing"
   ]
  },
  {
   "cell_type": "code",
   "execution_count": 29,
   "id": "717a3396-ec0c-4f9e-b45a-0053c1655ae5",
   "metadata": {},
   "outputs": [],
   "source": [
    "data=pd.Series(\n",
    "    [\"krlss\",\"moris\",\"hey\",\"ok\",\"ayush\",\"hello world\"],\n",
    "    index=['a','b','z','c','d','e']\n",
    ")"
   ]
  },
  {
   "cell_type": "code",
   "execution_count": 31,
   "id": "dd058e0a-2fd5-433c-996a-f860922c74a9",
   "metadata": {},
   "outputs": [
    {
     "data": {
      "text/plain": [
       "a          krlss\n",
       "b          moris\n",
       "z            hey\n",
       "c             ok\n",
       "d          ayush\n",
       "e    hello world\n",
       "dtype: object"
      ]
     },
     "execution_count": 31,
     "metadata": {},
     "output_type": "execute_result"
    }
   ],
   "source": [
    "data"
   ]
  },
  {
   "cell_type": "code",
   "execution_count": 33,
   "id": "0d4e0ec6-0e89-4d51-ae3a-3cb18db2617e",
   "metadata": {},
   "outputs": [
    {
     "data": {
      "text/plain": [
       "'hey'"
      ]
     },
     "execution_count": 33,
     "metadata": {},
     "output_type": "execute_result"
    }
   ],
   "source": [
    "data['z']"
   ]
  },
  {
   "cell_type": "code",
   "execution_count": 35,
   "id": "9df6c244-3f62-4d4e-a59b-e9f16e10e8e7",
   "metadata": {},
   "outputs": [],
   "source": [
    "# creating dataframes"
   ]
  },
  {
   "cell_type": "code",
   "execution_count": 37,
   "id": "16d0d74a-7544-43a6-8b97-440230579103",
   "metadata": {},
   "outputs": [],
   "source": [
    "df=pd.DataFrame({\n",
    "'username':[\"krlss\",\"moris\",\"hey\",\"ok\",\"ayush\",\"hello world\"],\n",
    "    'age':[20,23,24,23,34,56],\n",
    "    'phone number':[9327493845,32854737,3693242,349873,346832,38746334],\n",
    "})"
   ]
  },
  {
   "cell_type": "code",
   "execution_count": 41,
   "id": "56f6d141-ab31-493e-b740-4f312312264d",
   "metadata": {},
   "outputs": [
    {
     "data": {
      "text/html": [
       "<div>\n",
       "<style scoped>\n",
       "    .dataframe tbody tr th:only-of-type {\n",
       "        vertical-align: middle;\n",
       "    }\n",
       "\n",
       "    .dataframe tbody tr th {\n",
       "        vertical-align: top;\n",
       "    }\n",
       "\n",
       "    .dataframe thead th {\n",
       "        text-align: right;\n",
       "    }\n",
       "</style>\n",
       "<table border=\"1\" class=\"dataframe\">\n",
       "  <thead>\n",
       "    <tr style=\"text-align: right;\">\n",
       "      <th></th>\n",
       "      <th>username</th>\n",
       "      <th>age</th>\n",
       "      <th>phone number</th>\n",
       "    </tr>\n",
       "  </thead>\n",
       "  <tbody>\n",
       "    <tr>\n",
       "      <th>0</th>\n",
       "      <td>krlss</td>\n",
       "      <td>20</td>\n",
       "      <td>9327493845</td>\n",
       "    </tr>\n",
       "    <tr>\n",
       "      <th>1</th>\n",
       "      <td>moris</td>\n",
       "      <td>23</td>\n",
       "      <td>32854737</td>\n",
       "    </tr>\n",
       "    <tr>\n",
       "      <th>2</th>\n",
       "      <td>hey</td>\n",
       "      <td>24</td>\n",
       "      <td>3693242</td>\n",
       "    </tr>\n",
       "    <tr>\n",
       "      <th>3</th>\n",
       "      <td>ok</td>\n",
       "      <td>23</td>\n",
       "      <td>349873</td>\n",
       "    </tr>\n",
       "    <tr>\n",
       "      <th>4</th>\n",
       "      <td>ayush</td>\n",
       "      <td>34</td>\n",
       "      <td>346832</td>\n",
       "    </tr>\n",
       "    <tr>\n",
       "      <th>5</th>\n",
       "      <td>hello world</td>\n",
       "      <td>56</td>\n",
       "      <td>38746334</td>\n",
       "    </tr>\n",
       "  </tbody>\n",
       "</table>\n",
       "</div>"
      ],
      "text/plain": [
       "      username  age  phone number\n",
       "0        krlss   20    9327493845\n",
       "1        moris   23      32854737\n",
       "2          hey   24       3693242\n",
       "3           ok   23        349873\n",
       "4        ayush   34        346832\n",
       "5  hello world   56      38746334"
      ]
     },
     "execution_count": 41,
     "metadata": {},
     "output_type": "execute_result"
    }
   ],
   "source": [
    "df"
   ]
  },
  {
   "cell_type": "code",
   "execution_count": 45,
   "id": "fc08af2b-790f-4e17-b792-814b9cad2b45",
   "metadata": {},
   "outputs": [],
   "source": [
    "# df[4]"
   ]
  },
  {
   "cell_type": "code",
   "execution_count": 79,
   "id": "27e1a9b3-dd7a-42af-90f4-c2927bf2eb02",
   "metadata": {},
   "outputs": [
    {
     "data": {
      "text/html": [
       "<div>\n",
       "<style scoped>\n",
       "    .dataframe tbody tr th:only-of-type {\n",
       "        vertical-align: middle;\n",
       "    }\n",
       "\n",
       "    .dataframe tbody tr th {\n",
       "        vertical-align: top;\n",
       "    }\n",
       "\n",
       "    .dataframe thead th {\n",
       "        text-align: right;\n",
       "    }\n",
       "</style>\n",
       "<table border=\"1\" class=\"dataframe\">\n",
       "  <thead>\n",
       "    <tr style=\"text-align: right;\">\n",
       "      <th></th>\n",
       "      <th>student name</th>\n",
       "      <th>roll no</th>\n",
       "      <th>class</th>\n",
       "    </tr>\n",
       "  </thead>\n",
       "  <tbody>\n",
       "    <tr>\n",
       "      <th>1</th>\n",
       "      <td>aman</td>\n",
       "      <td>23</td>\n",
       "      <td>3</td>\n",
       "    </tr>\n",
       "    <tr>\n",
       "      <th>2</th>\n",
       "      <td>gagan</td>\n",
       "      <td>34</td>\n",
       "      <td>2</td>\n",
       "    </tr>\n",
       "    <tr>\n",
       "      <th>3</th>\n",
       "      <td>arman</td>\n",
       "      <td>56</td>\n",
       "      <td>3</td>\n",
       "    </tr>\n",
       "    <tr>\n",
       "      <th>4</th>\n",
       "      <td>jot</td>\n",
       "      <td>67</td>\n",
       "      <td>4</td>\n",
       "    </tr>\n",
       "  </tbody>\n",
       "</table>\n",
       "</div>"
      ],
      "text/plain": [
       "  student name  roll no  class\n",
       "1         aman       23      3\n",
       "2        gagan       34      2\n",
       "3        arman       56      3\n",
       "4          jot       67      4"
      ]
     },
     "execution_count": 79,
     "metadata": {},
     "output_type": "execute_result"
    }
   ],
   "source": [
    "data=pd.DataFrame({\n",
    "    'student name':[\"aman\",\"gagan\",\"arman\",\"jot\"],\n",
    "    'roll no':[23,34,56,67],\n",
    "    'class':[3,2,3,4],\n",
    "},\n",
    "                 index=[1,2,3,4])\n",
    "data"
   ]
  },
  {
   "cell_type": "code",
   "execution_count": 63,
   "id": "e3f9b46a-e982-4a93-83f9-7425ddecc532",
   "metadata": {},
   "outputs": [
    {
     "data": {
      "text/plain": [
       "pandas.core.frame.DataFrame"
      ]
     },
     "execution_count": 63,
     "metadata": {},
     "output_type": "execute_result"
    }
   ],
   "source": [
    "type(df)"
   ]
  },
  {
   "cell_type": "code",
   "execution_count": 71,
   "id": "1332b4bf-c266-4122-8051-81b16ca42afd",
   "metadata": {},
   "outputs": [],
   "source": [
    "x=df['age']"
   ]
  },
  {
   "cell_type": "code",
   "execution_count": 73,
   "id": "019d8aa2-1d0f-4858-b6b8-86ba389da450",
   "metadata": {},
   "outputs": [
    {
     "data": {
      "text/plain": [
       "0    20\n",
       "1    23\n",
       "2    24\n",
       "3    23\n",
       "4    34\n",
       "5    56\n",
       "Name: age, dtype: int64"
      ]
     },
     "execution_count": 73,
     "metadata": {},
     "output_type": "execute_result"
    }
   ],
   "source": [
    "x"
   ]
  },
  {
   "cell_type": "code",
   "execution_count": 75,
   "id": "7d2df2f1-d2b2-4afb-91a2-b1103b99557b",
   "metadata": {},
   "outputs": [
    {
     "data": {
      "text/plain": [
       "pandas.core.series.Series"
      ]
     },
     "execution_count": 75,
     "metadata": {},
     "output_type": "execute_result"
    }
   ],
   "source": [
    "type(x)"
   ]
  },
  {
   "cell_type": "code",
   "execution_count": 83,
   "id": "f4e23189-0531-4e5a-804b-4938c402e8bd",
   "metadata": {},
   "outputs": [],
   "source": [
    "# tables=pd.DataFrame({\n",
    "#     '2':[for i in range(1,11):\n",
    "#                 print(f\"2 X {i} = 2*i\")],\n",
    "#     '4':[for i in range(1,11):\n",
    "#                 print(f\"4 X {i} = 4*i\")],\n",
    "#     '6':[for i in range(1,11):\n",
    "#                  print(f\"6 X {i} = 6*i\")],\n",
    "#     '8':[for i in range(1,11):\n",
    "#                  print(f\"8 X {i} = 8*i\")],\n",
    "#     '10':[for i in range(1,11):\n",
    "#                  print(f\"10 X {i} = 10*i\")],\n",
    "# })"
   ]
  },
  {
   "cell_type": "code",
   "execution_count": 85,
   "id": "2ad3aeab-28d5-4bc5-8340-0b3af299bd9b",
   "metadata": {},
   "outputs": [],
   "source": [
    "import numpy as np"
   ]
  },
  {
   "cell_type": "code",
   "execution_count": 2,
   "id": "45bdbce8-2103-44ee-a6aa-3adac383ed9d",
   "metadata": {},
   "outputs": [],
   "source": [
    "# for i in range(1,11):\n",
    "#     print(f\"{x} X {i} = {x*i}\")\n"
   ]
  },
  {
   "cell_type": "code",
   "execution_count": 91,
   "id": "7ba17a11-5430-4bd6-94e9-645459714c18",
   "metadata": {},
   "outputs": [],
   "source": [
    "def createtable(x):\n",
    "    lst=[]\n",
    "    for i in range(1,11):\n",
    "        lst.append(f\"{x} X {i} = {x*i}\")\n",
    "    return lst\n",
    "\n"
   ]
  },
  {
   "cell_type": "code",
   "execution_count": 93,
   "id": "2b7eabd7-953b-424e-92dd-cddf21eff293",
   "metadata": {},
   "outputs": [
    {
     "data": {
      "text/plain": [
       "['4 X 1 = 4',\n",
       " '4 X 2 = 8',\n",
       " '4 X 3 = 12',\n",
       " '4 X 4 = 16',\n",
       " '4 X 5 = 20',\n",
       " '4 X 6 = 24',\n",
       " '4 X 7 = 28',\n",
       " '4 X 8 = 32',\n",
       " '4 X 9 = 36',\n",
       " '4 X 10 = 40']"
      ]
     },
     "execution_count": 93,
     "metadata": {},
     "output_type": "execute_result"
    }
   ],
   "source": [
    "createtable(4)"
   ]
  },
  {
   "cell_type": "code",
   "execution_count": 95,
   "id": "e2b5ecbf-c5c6-4ef6-a55a-ac5af4e9b95c",
   "metadata": {},
   "outputs": [],
   "source": [
    "tables=pd.DataFrame({\n",
    "    '2': createtable(2),\n",
    "    '4': createtable(4),\n",
    "    '6': createtable(6),\n",
    "    '8': createtable(8),\n",
    "    '10': createtable(10)\n",
    "})"
   ]
  },
  {
   "cell_type": "code",
   "execution_count": 97,
   "id": "4cdc7c00-5d22-4bb1-8293-46bca6cac8db",
   "metadata": {},
   "outputs": [
    {
     "data": {
      "text/html": [
       "<div>\n",
       "<style scoped>\n",
       "    .dataframe tbody tr th:only-of-type {\n",
       "        vertical-align: middle;\n",
       "    }\n",
       "\n",
       "    .dataframe tbody tr th {\n",
       "        vertical-align: top;\n",
       "    }\n",
       "\n",
       "    .dataframe thead th {\n",
       "        text-align: right;\n",
       "    }\n",
       "</style>\n",
       "<table border=\"1\" class=\"dataframe\">\n",
       "  <thead>\n",
       "    <tr style=\"text-align: right;\">\n",
       "      <th></th>\n",
       "      <th>2</th>\n",
       "      <th>4</th>\n",
       "      <th>6</th>\n",
       "      <th>8</th>\n",
       "      <th>10</th>\n",
       "    </tr>\n",
       "  </thead>\n",
       "  <tbody>\n",
       "    <tr>\n",
       "      <th>0</th>\n",
       "      <td>2 X 1 = 2</td>\n",
       "      <td>4 X 1 = 4</td>\n",
       "      <td>6 X 1 = 6</td>\n",
       "      <td>8 X 1 = 8</td>\n",
       "      <td>10 X 1 = 10</td>\n",
       "    </tr>\n",
       "    <tr>\n",
       "      <th>1</th>\n",
       "      <td>2 X 2 = 4</td>\n",
       "      <td>4 X 2 = 8</td>\n",
       "      <td>6 X 2 = 12</td>\n",
       "      <td>8 X 2 = 16</td>\n",
       "      <td>10 X 2 = 20</td>\n",
       "    </tr>\n",
       "    <tr>\n",
       "      <th>2</th>\n",
       "      <td>2 X 3 = 6</td>\n",
       "      <td>4 X 3 = 12</td>\n",
       "      <td>6 X 3 = 18</td>\n",
       "      <td>8 X 3 = 24</td>\n",
       "      <td>10 X 3 = 30</td>\n",
       "    </tr>\n",
       "    <tr>\n",
       "      <th>3</th>\n",
       "      <td>2 X 4 = 8</td>\n",
       "      <td>4 X 4 = 16</td>\n",
       "      <td>6 X 4 = 24</td>\n",
       "      <td>8 X 4 = 32</td>\n",
       "      <td>10 X 4 = 40</td>\n",
       "    </tr>\n",
       "    <tr>\n",
       "      <th>4</th>\n",
       "      <td>2 X 5 = 10</td>\n",
       "      <td>4 X 5 = 20</td>\n",
       "      <td>6 X 5 = 30</td>\n",
       "      <td>8 X 5 = 40</td>\n",
       "      <td>10 X 5 = 50</td>\n",
       "    </tr>\n",
       "    <tr>\n",
       "      <th>5</th>\n",
       "      <td>2 X 6 = 12</td>\n",
       "      <td>4 X 6 = 24</td>\n",
       "      <td>6 X 6 = 36</td>\n",
       "      <td>8 X 6 = 48</td>\n",
       "      <td>10 X 6 = 60</td>\n",
       "    </tr>\n",
       "    <tr>\n",
       "      <th>6</th>\n",
       "      <td>2 X 7 = 14</td>\n",
       "      <td>4 X 7 = 28</td>\n",
       "      <td>6 X 7 = 42</td>\n",
       "      <td>8 X 7 = 56</td>\n",
       "      <td>10 X 7 = 70</td>\n",
       "    </tr>\n",
       "    <tr>\n",
       "      <th>7</th>\n",
       "      <td>2 X 8 = 16</td>\n",
       "      <td>4 X 8 = 32</td>\n",
       "      <td>6 X 8 = 48</td>\n",
       "      <td>8 X 8 = 64</td>\n",
       "      <td>10 X 8 = 80</td>\n",
       "    </tr>\n",
       "    <tr>\n",
       "      <th>8</th>\n",
       "      <td>2 X 9 = 18</td>\n",
       "      <td>4 X 9 = 36</td>\n",
       "      <td>6 X 9 = 54</td>\n",
       "      <td>8 X 9 = 72</td>\n",
       "      <td>10 X 9 = 90</td>\n",
       "    </tr>\n",
       "    <tr>\n",
       "      <th>9</th>\n",
       "      <td>2 X 10 = 20</td>\n",
       "      <td>4 X 10 = 40</td>\n",
       "      <td>6 X 10 = 60</td>\n",
       "      <td>8 X 10 = 80</td>\n",
       "      <td>10 X 10 = 100</td>\n",
       "    </tr>\n",
       "  </tbody>\n",
       "</table>\n",
       "</div>"
      ],
      "text/plain": [
       "             2            4            6            8             10\n",
       "0    2 X 1 = 2    4 X 1 = 4    6 X 1 = 6    8 X 1 = 8    10 X 1 = 10\n",
       "1    2 X 2 = 4    4 X 2 = 8   6 X 2 = 12   8 X 2 = 16    10 X 2 = 20\n",
       "2    2 X 3 = 6   4 X 3 = 12   6 X 3 = 18   8 X 3 = 24    10 X 3 = 30\n",
       "3    2 X 4 = 8   4 X 4 = 16   6 X 4 = 24   8 X 4 = 32    10 X 4 = 40\n",
       "4   2 X 5 = 10   4 X 5 = 20   6 X 5 = 30   8 X 5 = 40    10 X 5 = 50\n",
       "5   2 X 6 = 12   4 X 6 = 24   6 X 6 = 36   8 X 6 = 48    10 X 6 = 60\n",
       "6   2 X 7 = 14   4 X 7 = 28   6 X 7 = 42   8 X 7 = 56    10 X 7 = 70\n",
       "7   2 X 8 = 16   4 X 8 = 32   6 X 8 = 48   8 X 8 = 64    10 X 8 = 80\n",
       "8   2 X 9 = 18   4 X 9 = 36   6 X 9 = 54   8 X 9 = 72    10 X 9 = 90\n",
       "9  2 X 10 = 20  4 X 10 = 40  6 X 10 = 60  8 X 10 = 80  10 X 10 = 100"
      ]
     },
     "execution_count": 97,
     "metadata": {},
     "output_type": "execute_result"
    }
   ],
   "source": [
    "tables"
   ]
  },
  {
   "cell_type": "code",
   "execution_count": 103,
   "id": "cad4a6a8-5541-44ca-ae93-d2a312b27831",
   "metadata": {},
   "outputs": [],
   "source": [
    "# question"
   ]
  },
  {
   "cell_type": "code",
   "execution_count": 105,
   "id": "3c48ee32-5be8-4a69-bb83-a2cf049f5570",
   "metadata": {},
   "outputs": [],
   "source": [
    "zx=[\"thiscarrr\",\"thisbusss\",\"thisbikee\",\"thistrain\"]"
   ]
  },
  {
   "cell_type": "code",
   "execution_count": 126,
   "id": "3580c492-d619-464b-af3f-b594015749d1",
   "metadata": {},
   "outputs": [
    {
     "data": {
      "text/plain": [
       "['t', 'h', 'i', 's']"
      ]
     },
     "execution_count": 126,
     "metadata": {},
     "output_type": "execute_result"
    }
   ],
   "source": [
    "def func(v):\n",
    "    lst=[]\n",
    "    for i in v:\n",
    "        v\n",
    "        lst.append(i)\n",
    "    return lst\n",
    "func(\"this\")"
   ]
  },
  {
   "cell_type": "code",
   "execution_count": 128,
   "id": "d302bc0b-eb4c-493c-b384-fdb8d9edbd54",
   "metadata": {},
   "outputs": [],
   "source": [
    "# v=\"train\"\n",
    "# for i in zx:\n",
    "#     print(i)"
   ]
  },
  {
   "cell_type": "code",
   "execution_count": 130,
   "id": "62cb239b-3e67-4300-9f28-7d2e3a9b0c79",
   "metadata": {},
   "outputs": [
    {
     "data": {
      "text/html": [
       "<div>\n",
       "<style scoped>\n",
       "    .dataframe tbody tr th:only-of-type {\n",
       "        vertical-align: middle;\n",
       "    }\n",
       "\n",
       "    .dataframe tbody tr th {\n",
       "        vertical-align: top;\n",
       "    }\n",
       "\n",
       "    .dataframe thead th {\n",
       "        text-align: right;\n",
       "    }\n",
       "</style>\n",
       "<table border=\"1\" class=\"dataframe\">\n",
       "  <thead>\n",
       "    <tr style=\"text-align: right;\">\n",
       "      <th></th>\n",
       "      <th>thiscarrr</th>\n",
       "      <th>thisbusss</th>\n",
       "      <th>thisbikee</th>\n",
       "      <th>thistrain</th>\n",
       "    </tr>\n",
       "  </thead>\n",
       "  <tbody>\n",
       "    <tr>\n",
       "      <th>0</th>\n",
       "      <td>t</td>\n",
       "      <td>t</td>\n",
       "      <td>t</td>\n",
       "      <td>t</td>\n",
       "    </tr>\n",
       "    <tr>\n",
       "      <th>1</th>\n",
       "      <td>h</td>\n",
       "      <td>h</td>\n",
       "      <td>h</td>\n",
       "      <td>h</td>\n",
       "    </tr>\n",
       "    <tr>\n",
       "      <th>2</th>\n",
       "      <td>i</td>\n",
       "      <td>i</td>\n",
       "      <td>i</td>\n",
       "      <td>i</td>\n",
       "    </tr>\n",
       "    <tr>\n",
       "      <th>3</th>\n",
       "      <td>s</td>\n",
       "      <td>s</td>\n",
       "      <td>s</td>\n",
       "      <td>s</td>\n",
       "    </tr>\n",
       "    <tr>\n",
       "      <th>4</th>\n",
       "      <td>c</td>\n",
       "      <td>b</td>\n",
       "      <td>b</td>\n",
       "      <td>t</td>\n",
       "    </tr>\n",
       "    <tr>\n",
       "      <th>5</th>\n",
       "      <td>a</td>\n",
       "      <td>u</td>\n",
       "      <td>i</td>\n",
       "      <td>r</td>\n",
       "    </tr>\n",
       "    <tr>\n",
       "      <th>6</th>\n",
       "      <td>r</td>\n",
       "      <td>s</td>\n",
       "      <td>k</td>\n",
       "      <td>a</td>\n",
       "    </tr>\n",
       "    <tr>\n",
       "      <th>7</th>\n",
       "      <td>r</td>\n",
       "      <td>s</td>\n",
       "      <td>e</td>\n",
       "      <td>i</td>\n",
       "    </tr>\n",
       "    <tr>\n",
       "      <th>8</th>\n",
       "      <td>r</td>\n",
       "      <td>s</td>\n",
       "      <td>e</td>\n",
       "      <td>n</td>\n",
       "    </tr>\n",
       "  </tbody>\n",
       "</table>\n",
       "</div>"
      ],
      "text/plain": [
       "  thiscarrr thisbusss thisbikee thistrain\n",
       "0         t         t         t         t\n",
       "1         h         h         h         h\n",
       "2         i         i         i         i\n",
       "3         s         s         s         s\n",
       "4         c         b         b         t\n",
       "5         a         u         i         r\n",
       "6         r         s         k         a\n",
       "7         r         s         e         i\n",
       "8         r         s         e         n"
      ]
     },
     "execution_count": 130,
     "metadata": {},
     "output_type": "execute_result"
    }
   ],
   "source": [
    "variable=pd.DataFrame({\n",
    "    \"thiscarrr\":func(\"thiscarrr\"),\n",
    "    \"thisbusss\":func(\"thisbusss\"),\n",
    "    \"thisbikee\":func(\"thisbikee\"),\n",
    "    \"thistrain\":func(\"thistrain\")\n",
    "})\n",
    "variable"
   ]
  },
  {
   "cell_type": "code",
   "execution_count": null,
   "id": "09f33103-e227-47d2-a494-438b884ee526",
   "metadata": {},
   "outputs": [],
   "source": []
  }
 ],
 "metadata": {
  "kernelspec": {
   "display_name": "Python 3 (ipykernel)",
   "language": "python",
   "name": "python3"
  },
  "language_info": {
   "codemirror_mode": {
    "name": "ipython",
    "version": 3
   },
   "file_extension": ".py",
   "mimetype": "text/x-python",
   "name": "python",
   "nbconvert_exporter": "python",
   "pygments_lexer": "ipython3",
   "version": "3.11.7"
  }
 },
 "nbformat": 4,
 "nbformat_minor": 5
}
