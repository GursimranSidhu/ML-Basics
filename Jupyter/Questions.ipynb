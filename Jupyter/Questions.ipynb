{
 "cells": [
  {
   "cell_type": "code",
   "execution_count": 3,
   "id": "cbf1ff72-021c-44d6-8c66-517c59985f9f",
   "metadata": {},
   "outputs": [],
   "source": [
    "# Define a NumPy array with the number 0 through 9 and reshape it into 3X3 array. Calculate the cumulative sum along each row."
   ]
  },
  {
   "cell_type": "code",
   "execution_count": 10,
   "id": "22df54f2-db49-47dc-ba91-eb0b734203ba",
   "metadata": {},
   "outputs": [],
   "source": [
    "import numpy as np"
   ]
  },
  {
   "cell_type": "code",
   "execution_count": 12,
   "id": "59e1b23b-fcfd-44d2-bc55-9f76bf7cca76",
   "metadata": {},
   "outputs": [
    {
     "data": {
      "text/plain": [
       "array([1, 2, 3, 4, 5, 6, 7, 8, 9])"
      ]
     },
     "execution_count": 12,
     "metadata": {},
     "output_type": "execute_result"
    }
   ],
   "source": [
    "arr=np.arange(1,10)\n",
    "arr"
   ]
  },
  {
   "cell_type": "code",
   "execution_count": 14,
   "id": "76cb3416-33d5-43a7-beea-ad13f91f3af9",
   "metadata": {},
   "outputs": [],
   "source": [
    "y=arr.reshape(3,3)"
   ]
  },
  {
   "cell_type": "code",
   "execution_count": 16,
   "id": "eb45a199-b4c4-41e9-b673-bef4ad3b5521",
   "metadata": {},
   "outputs": [
    {
     "data": {
      "text/plain": [
       "array([[1, 2, 3],\n",
       "       [4, 5, 6],\n",
       "       [7, 8, 9]])"
      ]
     },
     "execution_count": 16,
     "metadata": {},
     "output_type": "execute_result"
    }
   ],
   "source": [
    "y"
   ]
  },
  {
   "cell_type": "code",
   "execution_count": 18,
   "id": "ca927e5e-25cf-40b1-b590-2f2a4f7e78d6",
   "metadata": {},
   "outputs": [],
   "source": [
    "# help(np.cumsum)"
   ]
  },
  {
   "cell_type": "code",
   "execution_count": 20,
   "id": "d0fa9a2a-4a16-469c-964f-1d7b4b35998b",
   "metadata": {},
   "outputs": [
    {
     "data": {
      "text/plain": [
       "array([ 1,  3,  6, 10, 15, 21, 28, 36, 45])"
      ]
     },
     "execution_count": 20,
     "metadata": {},
     "output_type": "execute_result"
    }
   ],
   "source": [
    "np.cumsum(arr)"
   ]
  },
  {
   "cell_type": "code",
   "execution_count": 22,
   "id": "05f8fae7-2841-462b-aadd-84b43e9e8dbb",
   "metadata": {},
   "outputs": [
    {
     "data": {
      "text/plain": [
       "array([[ 1,  3,  6],\n",
       "       [ 4,  9, 15],\n",
       "       [ 7, 15, 24]])"
      ]
     },
     "execution_count": 22,
     "metadata": {},
     "output_type": "execute_result"
    }
   ],
   "source": [
    "np.cumsum(y,axis=1)"
   ]
  },
  {
   "cell_type": "code",
   "execution_count": 24,
   "id": "6e15843d-3b42-4728-8cc8-72189d4bbba2",
   "metadata": {},
   "outputs": [],
   "source": [
    "# Generate a 4x4 numpy array with random integers between 1 and 100 . Replace all even numbers with zeroes and odd numbers with ones."
   ]
  },
  {
   "cell_type": "code",
   "execution_count": 26,
   "id": "814af904-18fd-46e1-ae8d-990d20182be3",
   "metadata": {},
   "outputs": [],
   "source": [
    "# help(np.random)"
   ]
  },
  {
   "cell_type": "code",
   "execution_count": 28,
   "id": "f2f7e31b-d76d-4d04-b625-83ef0cf5ac4e",
   "metadata": {},
   "outputs": [],
   "source": [
    "import random"
   ]
  },
  {
   "cell_type": "code",
   "execution_count": 30,
   "id": "4153841e-9c4a-4169-b54a-2c396abfeceb",
   "metadata": {},
   "outputs": [
    {
     "data": {
      "text/plain": [
       "array([91., 80., 91., 89., 35.,  5., 34., 13., 88., 70., 72.,  4., 97.,\n",
       "       10., 22., 16.])"
      ]
     },
     "execution_count": 30,
     "metadata": {},
     "output_type": "execute_result"
    }
   ],
   "source": [
    "a=np.array([])\n",
    "for i in range(16):\n",
    "    x=random.randint(1,100)\n",
    "    a=np.append(a,x)\n",
    "    \n",
    "a"
   ]
  },
  {
   "cell_type": "code",
   "execution_count": 32,
   "id": "f956c13f-d923-456a-b368-d30d1c3c5d1f",
   "metadata": {},
   "outputs": [
    {
     "data": {
      "text/plain": [
       "array([1., 0., 1., 1., 1., 1., 0., 1., 0., 0., 0., 0., 1., 0., 0., 0.])"
      ]
     },
     "execution_count": 32,
     "metadata": {},
     "output_type": "execute_result"
    }
   ],
   "source": [
    "for i in range(16):\n",
    "    if a[i]%2==0:\n",
    "        a[i]=0\n",
    "    else:\n",
    "        a[i]=1\n",
    "a"
   ]
  },
  {
   "cell_type": "code",
   "execution_count": 34,
   "id": "d78be3e1-9304-417d-968d-0422d11374fc",
   "metadata": {},
   "outputs": [
    {
     "data": {
      "text/plain": [
       "array([[1., 0., 1., 1.],\n",
       "       [1., 1., 0., 1.],\n",
       "       [0., 0., 0., 0.],\n",
       "       [1., 0., 0., 0.]])"
      ]
     },
     "execution_count": 34,
     "metadata": {},
     "output_type": "execute_result"
    }
   ],
   "source": [
    "a.reshape(4,4)"
   ]
  },
  {
   "cell_type": "code",
   "execution_count": 36,
   "id": "4070c697-0a06-4d11-92d8-c1f578e6cd02",
   "metadata": {},
   "outputs": [],
   "source": [
    "#  Create a numpy array with the elements [\"apple\",\"banana\",\"cherry\"] and then find the index of element banana."
   ]
  },
  {
   "cell_type": "code",
   "execution_count": 38,
   "id": "efde5f8b-a10b-46d2-9512-1099d49dd57e",
   "metadata": {},
   "outputs": [
    {
     "data": {
      "text/plain": [
       "array(['apple', 'banana', 'cherry'], dtype='<U6')"
      ]
     },
     "execution_count": 38,
     "metadata": {},
     "output_type": "execute_result"
    }
   ],
   "source": [
    "arr1=np.array([\"apple\",\"banana\",\"cherry\"])\n",
    "arr1"
   ]
  },
  {
   "cell_type": "code",
   "execution_count": 40,
   "id": "88d61f17-ad29-459c-b4fe-aee0b4f6c647",
   "metadata": {},
   "outputs": [
    {
     "data": {
      "text/plain": [
       "(array([1]),)"
      ]
     },
     "execution_count": 40,
     "metadata": {},
     "output_type": "execute_result"
    }
   ],
   "source": [
    "np.where(arr1==\"banana\")"
   ]
  },
  {
   "cell_type": "code",
   "execution_count": 42,
   "id": "e1ecf9ae-7fa2-4e51-be2e-3f8db31319d9",
   "metadata": {},
   "outputs": [],
   "source": [
    "# Define a numpy array containing the numbers 1 through 20 and reshape it into a 4x5 array . compute the mean of each row."
   ]
  },
  {
   "cell_type": "code",
   "execution_count": 44,
   "id": "cd7aa87b-ba72-4c60-84c7-feadeda17493",
   "metadata": {},
   "outputs": [
    {
     "data": {
      "text/plain": [
       "array([ 1,  2,  3,  4,  5,  6,  7,  8,  9, 10, 11, 12, 13, 14, 15, 16, 17,\n",
       "       18, 19, 20])"
      ]
     },
     "execution_count": 44,
     "metadata": {},
     "output_type": "execute_result"
    }
   ],
   "source": [
    "arr2=np.arange(1,21)\n",
    "arr2"
   ]
  },
  {
   "cell_type": "code",
   "execution_count": 46,
   "id": "efa7a9e8-a7b1-404a-899d-092cf1d29534",
   "metadata": {},
   "outputs": [],
   "source": [
    "a=arr2.reshape(4,5)"
   ]
  },
  {
   "cell_type": "code",
   "execution_count": 48,
   "id": "de779419-3bae-4eef-a3d0-f89020fb0003",
   "metadata": {},
   "outputs": [
    {
     "data": {
      "text/plain": [
       "array([[ 1,  2,  3,  4,  5],\n",
       "       [ 6,  7,  8,  9, 10],\n",
       "       [11, 12, 13, 14, 15],\n",
       "       [16, 17, 18, 19, 20]])"
      ]
     },
     "execution_count": 48,
     "metadata": {},
     "output_type": "execute_result"
    }
   ],
   "source": [
    "a"
   ]
  },
  {
   "cell_type": "code",
   "execution_count": 50,
   "id": "c2866861-e06e-4425-90e4-bfbfde15b825",
   "metadata": {},
   "outputs": [],
   "source": [
    "# help(np.mean)"
   ]
  },
  {
   "cell_type": "code",
   "execution_count": 52,
   "id": "bfd969b8-2a2d-41c5-ac65-34f9b62ee029",
   "metadata": {},
   "outputs": [
    {
     "data": {
      "text/plain": [
       "array([ 3.,  8., 13., 18.])"
      ]
     },
     "execution_count": 52,
     "metadata": {},
     "output_type": "execute_result"
    }
   ],
   "source": [
    "np.mean(a,axis=1)"
   ]
  },
  {
   "cell_type": "code",
   "execution_count": 54,
   "id": "4f81b642-272b-43b4-a1df-91c263bb713e",
   "metadata": {},
   "outputs": [],
   "source": [
    "# Generate a 5x5 numpy array with random integers between 1 and 10 .Replace all values above 5 with 0 and all values below 5 with 1."
   ]
  },
  {
   "cell_type": "code",
   "execution_count": 56,
   "id": "1f99b7e6-d866-43e9-a73d-2f398d596633",
   "metadata": {},
   "outputs": [
    {
     "data": {
      "text/plain": [
       "array([ 6.,  8., 10.,  9.,  1., 10.,  5.,  1.,  8.,  6.,  3.,  9.,  8.,\n",
       "        1.,  3., 10.,  8.,  7., 10.,  9.,  1.,  7.,  7.,  8., 10.])"
      ]
     },
     "execution_count": 56,
     "metadata": {},
     "output_type": "execute_result"
    }
   ],
   "source": [
    "import random\n",
    "arr3=np.array([])\n",
    "for i in range(25):\n",
    "    x=random.randint(1,10)\n",
    "    arr3=np.append(arr3,x)\n",
    "arr3"
   ]
  },
  {
   "cell_type": "code",
   "execution_count": 58,
   "id": "5ffb0d85-0734-4ddb-8014-28524509ee26",
   "metadata": {},
   "outputs": [],
   "source": [
    "a=arr3.reshape(5,5)"
   ]
  },
  {
   "cell_type": "code",
   "execution_count": 60,
   "id": "f162b7ee-3034-4ddd-861b-0502f479042b",
   "metadata": {},
   "outputs": [
    {
     "data": {
      "text/plain": [
       "array([[ 6.,  8., 10.,  9.,  1.],\n",
       "       [10.,  5.,  1.,  8.,  6.],\n",
       "       [ 3.,  9.,  8.,  1.,  3.],\n",
       "       [10.,  8.,  7., 10.,  9.],\n",
       "       [ 1.,  7.,  7.,  8., 10.]])"
      ]
     },
     "execution_count": 60,
     "metadata": {},
     "output_type": "execute_result"
    }
   ],
   "source": [
    "a"
   ]
  },
  {
   "cell_type": "code",
   "execution_count": 62,
   "id": "23bb0d12-f95d-40d7-8f5b-829c1545f471",
   "metadata": {},
   "outputs": [
    {
     "data": {
      "text/plain": [
       "array([[0., 0., 0., 0., 1.],\n",
       "       [0., 1., 1., 0., 0.],\n",
       "       [1., 0., 0., 1., 1.],\n",
       "       [0., 0., 0., 0., 0.],\n",
       "       [1., 0., 0., 0., 0.]])"
      ]
     },
     "execution_count": 62,
     "metadata": {},
     "output_type": "execute_result"
    }
   ],
   "source": [
    "for i in range(5):\n",
    "    for j in range(5):\n",
    "        if a[i][j]>5:\n",
    "            a[i][j]=0\n",
    "        else:\n",
    "            a[i][j]=1\n",
    "a"
   ]
  },
  {
   "cell_type": "code",
   "execution_count": 64,
   "id": "65ecffd6-c366-43fb-b9d4-f5deabdc5d5c",
   "metadata": {},
   "outputs": [],
   "source": [
    "# create a numpy array with element [\"red\",\"green\",\"blue\"] and then count the occurences of each unique element."
   ]
  },
  {
   "cell_type": "code",
   "execution_count": 66,
   "id": "c953412b-eda3-4328-b293-7f8607a1ef11",
   "metadata": {},
   "outputs": [
    {
     "data": {
      "text/plain": [
       "array(['red', 'green', 'blue'], dtype='<U5')"
      ]
     },
     "execution_count": 66,
     "metadata": {},
     "output_type": "execute_result"
    }
   ],
   "source": [
    "r=np.array([\"red\",\"green\",\"blue\"])\n",
    "r"
   ]
  },
  {
   "cell_type": "code",
   "execution_count": 68,
   "id": "a1aee552-9c9c-4fd2-b593-df5eb6b15a1b",
   "metadata": {},
   "outputs": [
    {
     "name": "stdout",
     "output_type": "stream",
     "text": [
      "occurence of r=2\n",
      "occurence of e=4\n",
      "occurence of d=1\n",
      "occurence of g=1\n",
      "occurence of n=1\n",
      "occurence of b=1\n",
      "occurence of l=1\n",
      "occurence of u=1\n"
     ]
    }
   ],
   "source": [
    "w=np.array([\"r\",\"e\",\"d\",\"g\",\"n\",\"b\",\"l\",\"u\"])\n",
    "s=w.size\n",
    "for k in range(s):\n",
    "    count=0\n",
    "    for i in range(3):\n",
    "        for j in r[i]:\n",
    "            if j==w[k]:\n",
    "                count=count+1\n",
    "    print(f\"occurence of {w[k]}={count}\")\n",
    "        "
   ]
  },
  {
   "cell_type": "code",
   "execution_count": 70,
   "id": "3ab4e628-c390-4e80-9def-afce28c12eaf",
   "metadata": {},
   "outputs": [],
   "source": [
    "# Define a numpy array containing the numbers 1 through 16 and reshape it into 4X4 array. Extract the diagonal elements and compute their product"
   ]
  },
  {
   "cell_type": "code",
   "execution_count": 72,
   "id": "10fffa39-6b24-4581-9f02-0c545f1fea3d",
   "metadata": {},
   "outputs": [
    {
     "data": {
      "text/plain": [
       "array([[ 1,  2,  3,  4],\n",
       "       [ 5,  6,  7,  8],\n",
       "       [ 9, 10, 11, 12],\n",
       "       [13, 14, 15, 16]])"
      ]
     },
     "execution_count": 72,
     "metadata": {},
     "output_type": "execute_result"
    }
   ],
   "source": [
    "arr=np.arange(1,17).reshape(4,4)\n",
    "arr"
   ]
  },
  {
   "cell_type": "code",
   "execution_count": 74,
   "id": "2d747593-2304-4dfc-8059-8abdc3f43930",
   "metadata": {},
   "outputs": [
    {
     "name": "stdout",
     "output_type": "stream",
     "text": [
      "[13]\n",
      "product of -3 diagonal =13\n",
      "[ 9 14]\n",
      "product of -2 diagonal =126\n",
      "[ 5 10 15]\n",
      "product of -1 diagonal =750\n",
      "[ 1  6 11 16]\n",
      "product of 0 diagonal =1056\n",
      "[ 2  7 12]\n",
      "product of 1 diagonal =168\n",
      "[3 8]\n",
      "product of 2 diagonal =24\n",
      "[4]\n",
      "product of 3 diagonal =4\n"
     ]
    }
   ],
   "source": [
    "for i in range(-3,4):\n",
    "    x=arr.diagonal(i)\n",
    "    print(x)\n",
    "    print(f\"product of {i} diagonal ={np.product(x)}\")\n",
    "    "
   ]
  },
  {
   "cell_type": "code",
   "execution_count": 76,
   "id": "08d8c2fd-b954-4514-928e-41822bd98f03",
   "metadata": {},
   "outputs": [],
   "source": [
    "# help(np.diagonal)"
   ]
  },
  {
   "cell_type": "code",
   "execution_count": 78,
   "id": "5e4e6575-6c83-4afc-8f32-67a3f4e20c6c",
   "metadata": {},
   "outputs": [],
   "source": [
    "# Generate a 3x3 NumPy array with random floating-point numbers between -1 and 1. Compute the absolute value of each element."
   ]
  },
  {
   "cell_type": "code",
   "execution_count": 80,
   "id": "2b55d281-855a-4932-8731-a1b3acc55a61",
   "metadata": {},
   "outputs": [],
   "source": [
    "import random"
   ]
  },
  {
   "cell_type": "code",
   "execution_count": 82,
   "id": "d43f7ab5-6fc5-40fd-96c2-28fc018c0da4",
   "metadata": {},
   "outputs": [
    {
     "data": {
      "text/plain": [
       "array([-0.27078797,  0.59544772,  0.01566275,  0.63485264, -0.16637793,\n",
       "       -0.61954145, -0.85560626, -0.54531489, -0.93108347])"
      ]
     },
     "execution_count": 82,
     "metadata": {},
     "output_type": "execute_result"
    }
   ],
   "source": [
    "arr=np.array([])\n",
    "for i in range(9):\n",
    "    y=random.uniform(1,-1)\n",
    "    arr=np.append(arr,y)\n",
    "arr"
   ]
  },
  {
   "cell_type": "code",
   "execution_count": 84,
   "id": "0d40dac0-4a6c-43fb-982d-4a958f6cf3ea",
   "metadata": {},
   "outputs": [],
   "source": [
    "# help(np.random)"
   ]
  },
  {
   "cell_type": "code",
   "execution_count": 86,
   "id": "fd047329-70df-4527-a00b-8d18418c8453",
   "metadata": {},
   "outputs": [],
   "source": [
    "# help(np.absolute)"
   ]
  },
  {
   "cell_type": "code",
   "execution_count": 88,
   "id": "8ad12771-5c9c-43e4-8e6e-6ac5f2199ece",
   "metadata": {},
   "outputs": [],
   "source": [
    "abc=np.absolute(arr)"
   ]
  },
  {
   "cell_type": "code",
   "execution_count": 90,
   "id": "7d19cae4-0310-4d05-a1b5-1a2902af7a8e",
   "metadata": {},
   "outputs": [
    {
     "data": {
      "text/plain": [
       "array([0.27078797, 0.59544772, 0.01566275, 0.63485264, 0.16637793,\n",
       "       0.61954145, 0.85560626, 0.54531489, 0.93108347])"
      ]
     },
     "execution_count": 90,
     "metadata": {},
     "output_type": "execute_result"
    }
   ],
   "source": [
    "abc"
   ]
  },
  {
   "cell_type": "code",
   "execution_count": 92,
   "id": "c2287aec-13dc-483d-ae4b-503411d7ec33",
   "metadata": {},
   "outputs": [
    {
     "data": {
      "text/plain": [
       "array([[0.27078797, 0.59544772, 0.01566275],\n",
       "       [0.63485264, 0.16637793, 0.61954145],\n",
       "       [0.85560626, 0.54531489, 0.93108347]])"
      ]
     },
     "execution_count": 92,
     "metadata": {},
     "output_type": "execute_result"
    }
   ],
   "source": [
    "abc.reshape(3,3)"
   ]
  },
  {
   "cell_type": "code",
   "execution_count": 94,
   "id": "aa7e9833-bd29-4205-8930-bacc76ad4395",
   "metadata": {},
   "outputs": [],
   "source": [
    "# Create a NumPy array with the elements [\"apple\", \"banana\", \"cherry\"] and then sort them alphabetically in descending order."
   ]
  },
  {
   "cell_type": "code",
   "execution_count": 96,
   "id": "d01181d7-8d05-46cb-9b70-03f32d54eb46",
   "metadata": {},
   "outputs": [],
   "source": [
    "arr=np.array([\"banana\",\"apple\", \"cherry\"])"
   ]
  },
  {
   "cell_type": "code",
   "execution_count": 98,
   "id": "78d4babd-bc8e-4bf2-9976-9700172aee75",
   "metadata": {},
   "outputs": [],
   "source": [
    "# help(np.sort)"
   ]
  },
  {
   "cell_type": "code",
   "execution_count": 100,
   "id": "bd7b9839-7f69-41a6-a405-34a03c200011",
   "metadata": {},
   "outputs": [],
   "source": [
    "arr=np.sort(arr)"
   ]
  },
  {
   "cell_type": "code",
   "execution_count": 102,
   "id": "f0a132ab-14c6-4d91-8cd3-ccbcbf6c1182",
   "metadata": {},
   "outputs": [
    {
     "data": {
      "text/plain": [
       "array(['cherry', 'banana', 'apple'], dtype='<U6')"
      ]
     },
     "execution_count": 102,
     "metadata": {},
     "output_type": "execute_result"
    }
   ],
   "source": [
    "arr[: :-1]"
   ]
  },
  {
   "cell_type": "code",
   "execution_count": 104,
   "id": "783ce83e-fb8b-4029-8306-ad3ce6e682c2",
   "metadata": {},
   "outputs": [],
   "source": [
    "# Define a NumPy array containing the numbers 1 through 25 and reshape it into a 5x5 array. Compute the sum of the diagonal elements."
   ]
  },
  {
   "cell_type": "code",
   "execution_count": 106,
   "id": "df7ee6ff-6ea9-4340-9ed8-c3bb65d94aea",
   "metadata": {},
   "outputs": [],
   "source": [
    "arr=np.arange(1,26).reshape(5,5)"
   ]
  },
  {
   "cell_type": "code",
   "execution_count": 108,
   "id": "28537a3e-aa6a-4a7a-a678-f678694543e6",
   "metadata": {},
   "outputs": [
    {
     "data": {
      "text/plain": [
       "array([[ 1,  2,  3,  4,  5],\n",
       "       [ 6,  7,  8,  9, 10],\n",
       "       [11, 12, 13, 14, 15],\n",
       "       [16, 17, 18, 19, 20],\n",
       "       [21, 22, 23, 24, 25]])"
      ]
     },
     "execution_count": 108,
     "metadata": {},
     "output_type": "execute_result"
    }
   ],
   "source": [
    "arr"
   ]
  },
  {
   "cell_type": "code",
   "execution_count": 110,
   "id": "ddc5d445-c3ef-4b10-ad8b-4208ca74eb07",
   "metadata": {},
   "outputs": [
    {
     "name": "stdout",
     "output_type": "stream",
     "text": [
      "Sum of the diagonal [21] is 21\n",
      "Sum of the diagonal [16 22] is 38\n",
      "Sum of the diagonal [11 17 23] is 51\n",
      "Sum of the diagonal [ 6 12 18 24] is 60\n",
      "Sum of the diagonal [ 1  7 13 19 25] is 65\n",
      "Sum of the diagonal [ 2  8 14 20] is 44\n",
      "Sum of the diagonal [ 3  9 15] is 27\n",
      "Sum of the diagonal [ 4 10] is 14\n",
      "Sum of the diagonal [5] is 5\n"
     ]
    }
   ],
   "source": [
    "for i in range(-4,5):\n",
    "    x=arr.diagonal(i)\n",
    "    print(f\"Sum of the diagonal {x} is {np.sum(x)}\")"
   ]
  },
  {
   "cell_type": "code",
   "execution_count": 112,
   "id": "4c272995-bc31-432a-8af0-10b67f7eeddd",
   "metadata": {},
   "outputs": [],
   "source": [
    "# help(np.sum)"
   ]
  },
  {
   "cell_type": "code",
   "execution_count": 114,
   "id": "1de6d867-60fc-4c30-a082-c4013dc87229",
   "metadata": {},
   "outputs": [],
   "source": [
    "# Generate a 6x6 NumPy array with random integers between 0 and 100. Find the maximum value in each row and replace it with the string \"MAX\"."
   ]
  },
  {
   "cell_type": "code",
   "execution_count": 116,
   "id": "4e093e4e-2e3e-470b-8fdd-00d401233f07",
   "metadata": {},
   "outputs": [
    {
     "data": {
      "text/plain": [
       "array([[90, 95, 87, 66, 98, 37],\n",
       "       [59, 21, 76, 16, 75, 72],\n",
       "       [75, 18, 69, 38, 58, 81],\n",
       "       [59, 29, 49, 99, 39, 12],\n",
       "       [36, 24, 99, 99, 54, 81],\n",
       "       [71, 23, 54, 27,  6, 84]])"
      ]
     },
     "execution_count": 116,
     "metadata": {},
     "output_type": "execute_result"
    }
   ],
   "source": [
    "import numpy as np\n",
    "from numpy import random\n",
    "x=random.randint(1,100,size=(6,6))\n",
    "x"
   ]
  },
  {
   "cell_type": "code",
   "execution_count": 118,
   "id": "0e8056e2-a083-4b99-97e8-8ff106c72a1d",
   "metadata": {},
   "outputs": [],
   "source": [
    "y=np.amax(x,axis=1)"
   ]
  },
  {
   "cell_type": "code",
   "execution_count": 120,
   "id": "bf6fbcda-0766-475f-bfb7-fabe48a2cc21",
   "metadata": {},
   "outputs": [
    {
     "data": {
      "text/plain": [
       "array([98, 76, 81, 99, 99, 84])"
      ]
     },
     "execution_count": 120,
     "metadata": {},
     "output_type": "execute_result"
    }
   ],
   "source": [
    "y"
   ]
  },
  {
   "cell_type": "code",
   "execution_count": 132,
   "id": "815fd7f0-2699-4746-9d4d-a477dc20c6a3",
   "metadata": {},
   "outputs": [
    {
     "data": {
      "text/plain": [
       "(array([3, 4, 5]), array([3, 3, 5]))"
      ]
     },
     "execution_count": 132,
     "metadata": {},
     "output_type": "execute_result"
    }
   ],
   "source": [
    "np.where(x==y)"
   ]
  },
  {
   "cell_type": "code",
   "execution_count": null,
   "id": "59bdca36-520f-4f5e-855e-13bc8197bd65",
   "metadata": {},
   "outputs": [],
   "source": []
  },
  {
   "cell_type": "code",
   "execution_count": null,
   "id": "b5b1a3f7-4b39-448e-b89a-96da96be7c04",
   "metadata": {},
   "outputs": [],
   "source": [
    "# help(np.where)"
   ]
  },
  {
   "cell_type": "code",
   "execution_count": 168,
   "id": "6e291e94-ddfe-4b42-96c4-8156c4293b08",
   "metadata": {},
   "outputs": [],
   "source": [
    "# Incomplete"
   ]
  },
  {
   "cell_type": "code",
   "execution_count": 146,
   "id": "12bd1d65-6fc2-4d0e-8820-0c1930ecdb01",
   "metadata": {},
   "outputs": [],
   "source": [
    "# Create the NumPy array with the elements [\"cat\",\"dog\",\"bird\",\"cat\",\"dog\",\"fish\"] and then count the occurences of each unique element."
   ]
  },
  {
   "cell_type": "code",
   "execution_count": 148,
   "id": "785bae5c-44d5-44fa-9db9-d7bfe942a92f",
   "metadata": {},
   "outputs": [],
   "source": [
    "# help(np.unique)"
   ]
  },
  {
   "cell_type": "code",
   "execution_count": 150,
   "id": "5fd4b7c2-ae02-46a4-8b76-a33a3d2ce097",
   "metadata": {},
   "outputs": [
    {
     "data": {
      "text/plain": [
       "array(['bird', 'cat', 'dog', 'fish'], dtype='<U4')"
      ]
     },
     "execution_count": 150,
     "metadata": {},
     "output_type": "execute_result"
    }
   ],
   "source": [
    "arr=np.array( [\"cat\",\"dog\",\"bird\",\"cat\",\"dog\",\"fish\"])\n",
    "values, count=np.unique(arr, return_counts= True)\n",
    "values"
   ]
  },
  {
   "cell_type": "code",
   "execution_count": 152,
   "id": "b97650fe-456a-455a-8ae6-38203b077eaa",
   "metadata": {},
   "outputs": [
    {
     "data": {
      "text/plain": [
       "array([1, 2, 2, 1])"
      ]
     },
     "execution_count": 152,
     "metadata": {},
     "output_type": "execute_result"
    }
   ],
   "source": [
    "count"
   ]
  },
  {
   "cell_type": "code",
   "execution_count": 154,
   "id": "c920837f-35ce-4cab-b0a4-387aafdc5ecd",
   "metadata": {},
   "outputs": [],
   "source": [
    "#  Define a numpy array containing the number 1 through 12 and reshape it into 3X4 array. Calculate the standard deviation of each column."
   ]
  },
  {
   "cell_type": "code",
   "execution_count": 158,
   "id": "b0ef9cd3-24b0-482d-93f8-8d4e0b579077",
   "metadata": {},
   "outputs": [
    {
     "data": {
      "text/plain": [
       "array([[ 1,  2,  3,  4],\n",
       "       [ 5,  6,  7,  8],\n",
       "       [ 9, 10, 11, 12]])"
      ]
     },
     "execution_count": 158,
     "metadata": {},
     "output_type": "execute_result"
    }
   ],
   "source": [
    "arr=np.arange(1,13).reshape(3,4)\n",
    "arr"
   ]
  },
  {
   "cell_type": "code",
   "execution_count": 162,
   "id": "5ad641fa-79ea-48e5-8eae-0d4ece87c8fe",
   "metadata": {},
   "outputs": [],
   "source": [
    "# help(np.std)"
   ]
  },
  {
   "cell_type": "code",
   "execution_count": 164,
   "id": "ee5b57a3-d01d-4b33-88a5-7c5d203c6ab5",
   "metadata": {},
   "outputs": [
    {
     "data": {
      "text/plain": [
       "array([3.26598632, 3.26598632, 3.26598632, 3.26598632])"
      ]
     },
     "execution_count": 164,
     "metadata": {},
     "output_type": "execute_result"
    }
   ],
   "source": [
    "np.std(arr,axis=0)"
   ]
  },
  {
   "cell_type": "code",
   "execution_count": 166,
   "id": "5b6a4fb5-b6ac-46a6-9281-9b8f9b717b84",
   "metadata": {},
   "outputs": [],
   "source": [
    "# Generate a 4X4 numpy array with random integers between -50 and 50. Replace all the negative values with 0 and all positive values with 1"
   ]
  },
  {
   "cell_type": "code",
   "execution_count": 170,
   "id": "afba374a-643f-4e29-8397-64efcc739e58",
   "metadata": {},
   "outputs": [
    {
     "data": {
      "text/plain": [
       "array([[-30,  18,   0,  25],\n",
       "       [-19,  18, -20,  31],\n",
       "       [ 33,   9, -46, -37],\n",
       "       [-34, -18,  28,  23]])"
      ]
     },
     "execution_count": 170,
     "metadata": {},
     "output_type": "execute_result"
    }
   ],
   "source": [
    "arr=random.randint(-50,50,size=(4,4))\n",
    "arr"
   ]
  },
  {
   "cell_type": "code",
   "execution_count": 172,
   "id": "d83ff51e-de98-4230-a6a2-189012d40133",
   "metadata": {},
   "outputs": [],
   "source": [
    "oneD=arr.reshape(-1)"
   ]
  },
  {
   "cell_type": "code",
   "execution_count": 174,
   "id": "9f64406f-24cd-4d93-bb90-df506fdbc6a5",
   "metadata": {},
   "outputs": [],
   "source": [
    "zeros=np.where(oneD<0)"
   ]
  },
  {
   "cell_type": "code",
   "execution_count": 188,
   "id": "4b568efd-0900-4ea2-91de-fb451eea2e35",
   "metadata": {},
   "outputs": [],
   "source": [
    "oneD[zeros]=0"
   ]
  },
  {
   "cell_type": "code",
   "execution_count": 190,
   "id": "facd034f-0b66-479c-a9be-c3fc20761f06",
   "metadata": {},
   "outputs": [],
   "source": [
    "ones=np.where(oneD>0)"
   ]
  },
  {
   "cell_type": "code",
   "execution_count": 192,
   "id": "4698fee0-c610-4474-9416-1850ae4af0f3",
   "metadata": {},
   "outputs": [],
   "source": [
    "oneD[ones]=1"
   ]
  },
  {
   "cell_type": "code",
   "execution_count": 194,
   "id": "378da766-73f0-4609-868b-5d53cfe08c4a",
   "metadata": {},
   "outputs": [
    {
     "data": {
      "text/plain": [
       "array([0, 1, 0, 1, 0, 1, 0, 1, 1, 1, 0, 0, 0, 0, 1, 1])"
      ]
     },
     "execution_count": 194,
     "metadata": {},
     "output_type": "execute_result"
    }
   ],
   "source": [
    "oneD"
   ]
  },
  {
   "cell_type": "code",
   "execution_count": 196,
   "id": "b612be0c-7285-4624-836a-9870d9d0eb56",
   "metadata": {},
   "outputs": [
    {
     "data": {
      "text/plain": [
       "array([[0, 1, 0, 1],\n",
       "       [0, 1, 0, 1],\n",
       "       [1, 1, 0, 0],\n",
       "       [0, 0, 1, 1]])"
      ]
     },
     "execution_count": 196,
     "metadata": {},
     "output_type": "execute_result"
    }
   ],
   "source": [
    "oneD.reshape(4,4)"
   ]
  },
  {
   "cell_type": "code",
   "execution_count": 198,
   "id": "f3c5beaf-b5d9-403c-85bd-b3a6fb239b3b",
   "metadata": {},
   "outputs": [],
   "source": [
    "# Create a numpy array with the elements [\"apple\", \"banana\", \"cherry\", \"apple\", \"banana\"]. Remove duplicates from the array."
   ]
  },
  {
   "cell_type": "code",
   "execution_count": 200,
   "id": "e8fc58ad-3f44-4284-9cd9-15e54a34533d",
   "metadata": {},
   "outputs": [
    {
     "data": {
      "text/plain": [
       "array(['apple', 'banana', 'cherry'], dtype='<U6')"
      ]
     },
     "execution_count": 200,
     "metadata": {},
     "output_type": "execute_result"
    }
   ],
   "source": [
    "arr=np.array([\"apple\", \"banana\", \"cherry\", \"apple\", \"banana\"])\n",
    "np.unique(arr)"
   ]
  },
  {
   "cell_type": "code",
   "execution_count": 202,
   "id": "7dba85bb-df9c-48d7-b3bd-5c1cf3eac694",
   "metadata": {},
   "outputs": [],
   "source": [
    "# Define a numpy array containing the numbers 1 through 16 and reshape it into 4X4 array. Extract elements in the last column."
   ]
  },
  {
   "cell_type": "code",
   "execution_count": 210,
   "id": "9e47c107-c1e5-455a-b758-4ede4db72dfa",
   "metadata": {},
   "outputs": [
    {
     "data": {
      "text/plain": [
       "array([[ 1,  2,  3,  4],\n",
       "       [ 5,  6,  7,  8],\n",
       "       [ 9, 10, 11, 12],\n",
       "       [13, 14, 15, 16]])"
      ]
     },
     "execution_count": 210,
     "metadata": {},
     "output_type": "execute_result"
    }
   ],
   "source": [
    "arr=np.arange(1,17).reshape(4,4)\n",
    "arr"
   ]
  },
  {
   "cell_type": "code",
   "execution_count": 238,
   "id": "80043c87-8cf4-4411-9d17-1709183a2c27",
   "metadata": {},
   "outputs": [],
   "source": [
    "# x=arr.reshape(-1)\n",
    "# x[3::4]"
   ]
  },
  {
   "cell_type": "code",
   "execution_count": 242,
   "id": "8eb874c1-a839-4e7d-9283-c0be974c325c",
   "metadata": {},
   "outputs": [
    {
     "name": "stdout",
     "output_type": "stream",
     "text": [
      "4\n",
      "8\n",
      "12\n",
      "16\n"
     ]
    }
   ],
   "source": [
    "for i in range(4):\n",
    "    print(arr[i][3])"
   ]
  },
  {
   "cell_type": "code",
   "execution_count": 244,
   "id": "eaca7e2a-dbbb-42db-8347-131352b71c8d",
   "metadata": {},
   "outputs": [],
   "source": [
    "# Generate a 5X5 numpy array with random floating point numbers between 0 and 1. Round each element with the nearest integer."
   ]
  },
  {
   "cell_type": "code",
   "execution_count": 250,
   "id": "8376da2f-b98e-4148-8599-4ab386884f1b",
   "metadata": {},
   "outputs": [
    {
     "data": {
      "text/plain": [
       "array([[0.15709412, 0.35184818, 0.5359812 , 0.55665841, 0.47134394],\n",
       "       [0.05005512, 0.40387658, 0.43423607, 0.99830071, 0.98754281],\n",
       "       [0.05047386, 0.94563832, 0.29452549, 0.84119952, 0.78292708],\n",
       "       [0.42358489, 0.22664775, 0.13435184, 0.09836341, 0.08759726],\n",
       "       [0.99171121, 0.76949682, 0.8184339 , 0.68548898, 0.15240229]])"
      ]
     },
     "execution_count": 250,
     "metadata": {},
     "output_type": "execute_result"
    }
   ],
   "source": [
    "x=random.random(size=(5,5))\n",
    "x"
   ]
  },
  {
   "cell_type": "code",
   "execution_count": 252,
   "id": "30ad7740-03c8-424d-acba-4c5fcdf1d027",
   "metadata": {},
   "outputs": [
    {
     "data": {
      "text/plain": [
       "array([[0., 0., 1., 1., 0.],\n",
       "       [0., 0., 0., 1., 1.],\n",
       "       [0., 1., 0., 1., 1.],\n",
       "       [0., 0., 0., 0., 0.],\n",
       "       [1., 1., 1., 1., 0.]])"
      ]
     },
     "execution_count": 252,
     "metadata": {},
     "output_type": "execute_result"
    }
   ],
   "source": [
    "np.round(x)"
   ]
  },
  {
   "cell_type": "code",
   "execution_count": 254,
   "id": "1e63237a-29f0-4505-acbe-7455f01e0b26",
   "metadata": {},
   "outputs": [],
   "source": [
    "# Create a numpy array with elements [\"red\", \"green\",\"blue\",\"red\",\"green\",\"blue\"].Replace red with orange."
   ]
  },
  {
   "cell_type": "code",
   "execution_count": 258,
   "id": "31d2f3e0-a59f-4e63-a554-4bfc55e5ea1b",
   "metadata": {},
   "outputs": [
    {
     "data": {
      "text/plain": [
       "array(['red', 'green', 'blue', 'red', 'green', 'blue'], dtype='<U5')"
      ]
     },
     "execution_count": 258,
     "metadata": {},
     "output_type": "execute_result"
    }
   ],
   "source": [
    "arr=np.array([\"red\", \"green\",\"blue\",\"red\",\"green\",\"blue\"])\n",
    "arr"
   ]
  },
  {
   "cell_type": "code",
   "execution_count": 266,
   "id": "71fc5166-b4bf-4c74-9aa3-8cf14e7cfa58",
   "metadata": {},
   "outputs": [
    {
     "data": {
      "text/plain": [
       "array(['orang', 'green', 'blue', 'orang', 'green', 'blue'], dtype='<U5')"
      ]
     },
     "execution_count": 266,
     "metadata": {},
     "output_type": "execute_result"
    }
   ],
   "source": [
    "for i in range(np.size(arr)):\n",
    "    if arr[i]==\"red\":\n",
    "        arr[i]=\"orange\"\n",
    "arr"
   ]
  },
  {
   "cell_type": "code",
   "execution_count": 268,
   "id": "474d96ad-f3a6-4c7b-8cb5-002fdbff0c9c",
   "metadata": {},
   "outputs": [],
   "source": [
    "# Define a numpy array containing numbers 1 through 20 and reshape it into 5X4 array. Compute the sum of each column."
   ]
  },
  {
   "cell_type": "code",
   "execution_count": 270,
   "id": "e0264a12-0757-4608-aeda-e9bedaa44bf5",
   "metadata": {},
   "outputs": [],
   "source": [
    "arr=np.arange(1,21).reshape(5,4)"
   ]
  },
  {
   "cell_type": "code",
   "execution_count": 272,
   "id": "a3771dfb-8b48-4739-8a0f-c6cb465c87d7",
   "metadata": {},
   "outputs": [
    {
     "data": {
      "text/plain": [
       "array([[ 1,  2,  3,  4],\n",
       "       [ 5,  6,  7,  8],\n",
       "       [ 9, 10, 11, 12],\n",
       "       [13, 14, 15, 16],\n",
       "       [17, 18, 19, 20]])"
      ]
     },
     "execution_count": 272,
     "metadata": {},
     "output_type": "execute_result"
    }
   ],
   "source": [
    "arr"
   ]
  },
  {
   "cell_type": "code",
   "execution_count": 274,
   "id": "beb5b335-032d-46d2-9fd7-3f835495cfe8",
   "metadata": {},
   "outputs": [
    {
     "data": {
      "text/plain": [
       "array([45, 50, 55, 60])"
      ]
     },
     "execution_count": 274,
     "metadata": {},
     "output_type": "execute_result"
    }
   ],
   "source": [
    "np.sum(arr,axis=0)"
   ]
  },
  {
   "cell_type": "code",
   "execution_count": 276,
   "id": "208e4296-5f14-46e6-b78c-b5837133a39c",
   "metadata": {},
   "outputs": [],
   "source": [
    "# Generate a 3X3 numpy array with random integers between 1 and 100. Find the index of maximum value in the array."
   ]
  },
  {
   "cell_type": "code",
   "execution_count": 280,
   "id": "dd716145-9171-4c34-a5e4-32bb81e28408",
   "metadata": {},
   "outputs": [
    {
     "data": {
      "text/plain": [
       "array([[10, 94, 23],\n",
       "       [76, 64, 69],\n",
       "       [52, 82, 72]])"
      ]
     },
     "execution_count": 280,
     "metadata": {},
     "output_type": "execute_result"
    }
   ],
   "source": [
    "arr=random.randint(1,100,size=(3,3))\n",
    "arr"
   ]
  },
  {
   "cell_type": "code",
   "execution_count": 282,
   "id": "fedbb0db-cbab-455b-b871-e233ba870139",
   "metadata": {},
   "outputs": [
    {
     "data": {
      "text/plain": [
       "94"
      ]
     },
     "execution_count": 282,
     "metadata": {},
     "output_type": "execute_result"
    }
   ],
   "source": [
    "np.amax(arr)"
   ]
  },
  {
   "cell_type": "code",
   "execution_count": 286,
   "id": "0cfa5ef4-6345-4c9a-9dd5-41fbf2e47952",
   "metadata": {},
   "outputs": [
    {
     "data": {
      "text/plain": [
       "(array([0]), array([1]))"
      ]
     },
     "execution_count": 286,
     "metadata": {},
     "output_type": "execute_result"
    }
   ],
   "source": [
    "np.where(arr==np.amax(arr))"
   ]
  },
  {
   "cell_type": "code",
   "execution_count": 288,
   "id": "ed82fe7e-289e-46a1-8bc1-f819505bc111",
   "metadata": {},
   "outputs": [],
   "source": [
    "# Generate a nd array of 5X10 with random intergers from 1 to 100. Elements which are divisible by 2 put 0 there ,elements which are not divisible by 2 put 1 there and the elements which are divisible by both 2 and 3 put 2 there."
   ]
  },
  {
   "cell_type": "code",
   "execution_count": 290,
   "id": "f1c50143-7312-48b4-9968-c4bc415ab5f6",
   "metadata": {},
   "outputs": [
    {
     "data": {
      "text/plain": [
       "array([[26, 61, 88, 53, 40, 22,  4, 28, 60, 65],\n",
       "       [67, 96, 40, 33, 71, 76, 40, 36, 55, 52],\n",
       "       [71, 66, 42, 96, 33, 49, 53, 27, 82, 39],\n",
       "       [89, 74, 73, 13, 24, 80, 59, 34, 92, 66],\n",
       "       [11, 91,  1, 31, 36, 99, 35, 37, 49, 65]])"
      ]
     },
     "execution_count": 290,
     "metadata": {},
     "output_type": "execute_result"
    }
   ],
   "source": [
    "arr=random.randint(1,100,size=(5,10))\n",
    "arr"
   ]
  },
  {
   "cell_type": "code",
   "execution_count": 312,
   "id": "c6a43d33-da7f-42a2-b759-d74740add669",
   "metadata": {},
   "outputs": [
    {
     "data": {
      "text/plain": [
       "array([[2, 1, 2, 1, 2, 2, 2, 2, 2, 1],\n",
       "       [1, 2, 2, 1, 1, 2, 2, 2, 1, 2],\n",
       "       [1, 2, 2, 2, 1, 1, 1, 1, 2, 1],\n",
       "       [1, 2, 1, 1, 2, 2, 1, 2, 2, 2],\n",
       "       [1, 1, 1, 1, 2, 1, 1, 1, 1, 1]])"
      ]
     },
     "execution_count": 312,
     "metadata": {},
     "output_type": "execute_result"
    }
   ],
   "source": [
    "arr[np.where(arr%2==0)]=0\n",
    "arr[np.where(arr%6==0)]=2\n",
    "arr[np.where(arr%2!=0)]=1\n",
    "arr"
   ]
  },
  {
   "cell_type": "code",
   "execution_count": 316,
   "id": "17b7c18a-293d-4af1-9760-ff104633c8aa",
   "metadata": {},
   "outputs": [],
   "source": [
    "# Incomplete"
   ]
  }
 ],
 "metadata": {
  "kernelspec": {
   "display_name": "Python 3 (ipykernel)",
   "language": "python",
   "name": "python3"
  },
  "language_info": {
   "codemirror_mode": {
    "name": "ipython",
    "version": 3
   },
   "file_extension": ".py",
   "mimetype": "text/x-python",
   "name": "python",
   "nbconvert_exporter": "python",
   "pygments_lexer": "ipython3",
   "version": "3.11.7"
  }
 },
 "nbformat": 4,
 "nbformat_minor": 5
}
