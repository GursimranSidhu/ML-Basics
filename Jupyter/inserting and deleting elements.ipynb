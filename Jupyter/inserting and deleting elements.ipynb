{
 "cells": [
  {
   "cell_type": "code",
   "execution_count": 2,
   "id": "bf4f3e71-60fb-432a-993c-dcf822ed7f35",
   "metadata": {},
   "outputs": [],
   "source": [
    "import numpy as np\n",
    "arr3=np.array([23,34,45,56,7,6,78])"
   ]
  },
  {
   "cell_type": "code",
   "execution_count": 4,
   "id": "d8cba9e4-49fc-48e0-8b34-ebdc03af5ece",
   "metadata": {},
   "outputs": [
    {
     "data": {
      "text/plain": [
       "array([23, 34, 45, 56,  7,  6, 78])"
      ]
     },
     "execution_count": 4,
     "metadata": {},
     "output_type": "execute_result"
    }
   ],
   "source": [
    "arr3"
   ]
  },
  {
   "cell_type": "code",
   "execution_count": 6,
   "id": "164847e4-dd3c-422d-bf9b-29bd878d57e2",
   "metadata": {},
   "outputs": [
    {
     "data": {
      "text/plain": [
       "array([ 23,  34, 100,  56,   7,   6,  78])"
      ]
     },
     "execution_count": 6,
     "metadata": {},
     "output_type": "execute_result"
    }
   ],
   "source": [
    "# replacing element from ndarray\n",
    "arr3[2]=100\n",
    "arr3"
   ]
  },
  {
   "cell_type": "code",
   "execution_count": 8,
   "id": "df177d94-e751-4726-87ee-e694590b498e",
   "metadata": {},
   "outputs": [
    {
     "data": {
      "text/plain": [
       "156"
      ]
     },
     "execution_count": 8,
     "metadata": {},
     "output_type": "execute_result"
    }
   ],
   "source": [
    "arr3[2]+arr3[3]"
   ]
  },
  {
   "cell_type": "code",
   "execution_count": 10,
   "id": "a08dc34f-9dd2-48e5-a6a3-1a94ff8ef9b7",
   "metadata": {},
   "outputs": [
    {
     "data": {
      "text/plain": [
       "array([ 23,  34, 100,  56,   7,   6,  78])"
      ]
     },
     "execution_count": 10,
     "metadata": {},
     "output_type": "execute_result"
    }
   ],
   "source": [
    "arr3"
   ]
  },
  {
   "cell_type": "code",
   "execution_count": 12,
   "id": "717c0ee0-04e6-4aca-9df1-3a600f11f9f2",
   "metadata": {},
   "outputs": [],
   "source": [
    "# replacing multiple elements from ndarray\n",
    "arr3[[1,4,-1]]=[20,30,4]"
   ]
  },
  {
   "cell_type": "code",
   "execution_count": 14,
   "id": "121511be-ba47-4697-bf1e-258e6f3fad33",
   "metadata": {},
   "outputs": [
    {
     "data": {
      "text/plain": [
       "array([ 23,  20, 100,  56,  30,   6,   4])"
      ]
     },
     "execution_count": 14,
     "metadata": {},
     "output_type": "execute_result"
    }
   ],
   "source": [
    "arr3"
   ]
  },
  {
   "cell_type": "code",
   "execution_count": 44,
   "id": "affff37c-0357-407b-b5e4-d2cab41d8e3c",
   "metadata": {},
   "outputs": [],
   "source": [
    "#deleting an element \n",
    "# np.delete(objectname, indexnumber)"
   ]
  },
  {
   "cell_type": "code",
   "execution_count": 46,
   "id": "99a831a7-9c29-4ba6-b1b3-e8b2816fff6f",
   "metadata": {},
   "outputs": [
    {
     "data": {
      "text/plain": [
       "array([23, 20, 56, 30,  6,  4])"
      ]
     },
     "execution_count": 46,
     "metadata": {},
     "output_type": "execute_result"
    }
   ],
   "source": [
    "np.delete(arr3, 2)"
   ]
  },
  {
   "cell_type": "code",
   "execution_count": 48,
   "id": "c282e183-2026-4f3d-a0b6-7a55d13831a2",
   "metadata": {},
   "outputs": [],
   "source": [
    "#multiple delete"
   ]
  },
  {
   "cell_type": "code",
   "execution_count": 50,
   "id": "cfffd74e-e8be-4cb2-9e9a-dee758ae782e",
   "metadata": {},
   "outputs": [
    {
     "data": {
      "text/plain": [
       "array([ 23, 100,  56,  30,   6])"
      ]
     },
     "execution_count": 50,
     "metadata": {},
     "output_type": "execute_result"
    }
   ],
   "source": [
    "np.delete(arr3,[1,-1])"
   ]
  },
  {
   "cell_type": "code",
   "execution_count": 52,
   "id": "4481186c-345e-4d4e-95dc-5c0593112687",
   "metadata": {},
   "outputs": [],
   "source": [
    "#inserting at the end of the list   (APPEND)"
   ]
  },
  {
   "cell_type": "code",
   "execution_count": 54,
   "id": "52837859-7915-4c91-b5e3-89a126fcbce5",
   "metadata": {},
   "outputs": [],
   "source": [
    "#np.append(objectname,element)"
   ]
  },
  {
   "cell_type": "code",
   "execution_count": 56,
   "id": "66045f23-fae0-426e-83b3-ba61645798ef",
   "metadata": {},
   "outputs": [],
   "source": [
    "arr3=np.append(arr3,10)"
   ]
  },
  {
   "cell_type": "code",
   "execution_count": 58,
   "id": "4787e08b-7abf-4900-8bec-f10f2fced72b",
   "metadata": {},
   "outputs": [
    {
     "data": {
      "text/plain": [
       "array([ 23,  20, 100,  56,  30,   6,   4,  10])"
      ]
     },
     "execution_count": 58,
     "metadata": {},
     "output_type": "execute_result"
    }
   ],
   "source": [
    "arr3"
   ]
  },
  {
   "cell_type": "code",
   "execution_count": 60,
   "id": "17dc70d5-9251-4b74-a44b-f66e372676ef",
   "metadata": {},
   "outputs": [],
   "source": [
    "#np.insert(objectname, indexnumber, element)"
   ]
  },
  {
   "cell_type": "code",
   "execution_count": 62,
   "id": "101a6638-796f-4acc-b3e2-3b2df3c4ebdf",
   "metadata": {},
   "outputs": [
    {
     "data": {
      "text/plain": [
       "array([ 23,  34,  20, 100,  56,  30,   6,   4,  10])"
      ]
     },
     "execution_count": 62,
     "metadata": {},
     "output_type": "execute_result"
    }
   ],
   "source": [
    "arr3=np.insert(arr3,1,34)\n",
    "arr3"
   ]
  },
  {
   "cell_type": "code",
   "execution_count": 64,
   "id": "cfe8f5f8-fb5f-49a2-9973-9281ec2dfd02",
   "metadata": {},
   "outputs": [],
   "source": [
    "# insert multiple elements"
   ]
  },
  {
   "cell_type": "code",
   "execution_count": 66,
   "id": "7dd649fc-fdeb-49f9-a4d6-6cd43e2f4009",
   "metadata": {},
   "outputs": [
    {
     "data": {
      "text/plain": [
       "array([ 12,  13,  14,  23,  34,  20, 100,  56,  30,   6,   4,  10])"
      ]
     },
     "execution_count": 66,
     "metadata": {},
     "output_type": "execute_result"
    }
   ],
   "source": [
    "arr3=np.insert(arr3,0,[12,13,14])\n",
    "arr3"
   ]
  },
  {
   "cell_type": "code",
   "execution_count": 68,
   "id": "b35fcdbd-c94d-4577-aab9-873e69b2c162",
   "metadata": {},
   "outputs": [],
   "source": [
    "#insert multiple numbers at multiple indexes"
   ]
  },
  {
   "cell_type": "code",
   "execution_count": 70,
   "id": "ecde77e0-86a1-409e-ba79-29f22612a2c6",
   "metadata": {},
   "outputs": [
    {
     "data": {
      "text/plain": [
       "array([1, 7, 2, 3, 8, 4, 9, 5])"
      ]
     },
     "execution_count": 70,
     "metadata": {},
     "output_type": "execute_result"
    }
   ],
   "source": [
    "arr=np.array([1,2,3,4,5])\n",
    "index=[1,3,4]\n",
    "elements=[7,8,9]\n",
    "arr=np.insert(arr,index,elements)\n",
    "arr"
   ]
  },
  {
   "cell_type": "code",
   "execution_count": 72,
   "id": "5f49ba5c-0dbf-4001-a13f-c6d452a1750c",
   "metadata": {},
   "outputs": [],
   "source": [
    "# replacing elements/ updating element"
   ]
  },
  {
   "cell_type": "code",
   "execution_count": 74,
   "id": "dd029055-2f99-484b-8517-cd60e191aba5",
   "metadata": {},
   "outputs": [
    {
     "data": {
      "text/plain": [
       "array([ 23,  34, 100,  56,  67])"
      ]
     },
     "execution_count": 74,
     "metadata": {},
     "output_type": "execute_result"
    }
   ],
   "source": [
    "arr4=np.array([23,34,45,56,67])\n",
    "arr4[2]=100\n",
    "arr4 "
   ]
  },
  {
   "cell_type": "code",
   "execution_count": 76,
   "id": "4027a6f5-688b-446b-8fda-6f9d48fe4a30",
   "metadata": {},
   "outputs": [],
   "source": [
    "# objectname[indexnumber]=new_element"
   ]
  },
  {
   "cell_type": "code",
   "execution_count": 78,
   "id": "9d237d7d-adc3-41f6-814d-fa4491a4e578",
   "metadata": {},
   "outputs": [],
   "source": [
    "# replacing multiple elements"
   ]
  },
  {
   "cell_type": "code",
   "execution_count": 80,
   "id": "61f5a630-b40d-4831-b17c-37e0ef13d092",
   "metadata": {},
   "outputs": [
    {
     "data": {
      "text/plain": [
       "array([ 1, 12, 13,  4, 14])"
      ]
     },
     "execution_count": 80,
     "metadata": {},
     "output_type": "execute_result"
    }
   ],
   "source": [
    "arr5=np.array([1,2,3,4,5])\n",
    "arr5[[1,2,-1]]=[12,13,14]\n",
    "arr5"
   ]
  },
  {
   "cell_type": "markdown",
   "id": "c4395396-1470-43e5-9bfd-51755c52095c",
   "metadata": {},
   "source": [
    "#### table of two"
   ]
  },
  {
   "cell_type": "code",
   "execution_count": 83,
   "id": "09f613bc-0e03-4ee5-b7d0-7641e73d8408",
   "metadata": {},
   "outputs": [
    {
     "data": {
      "text/plain": [
       "array([ 2.,  4.,  6.,  8., 10., 12., 14., 16., 18., 20.])"
      ]
     },
     "execution_count": 83,
     "metadata": {},
     "output_type": "execute_result"
    }
   ],
   "source": [
    "arr1=np.array([])\n",
    "for i in range(1,11):\n",
    "    arr1=np.append(arr1,2*i)\n",
    "arr1"
   ]
  },
  {
   "cell_type": "code",
   "execution_count": 85,
   "id": "c1ab92fa-b991-4126-8a5c-df1edb8af43e",
   "metadata": {},
   "outputs": [],
   "source": [
    "#where() ---> help to get index number of the data"
   ]
  },
  {
   "cell_type": "code",
   "execution_count": 87,
   "id": "599aa778-27b4-428f-b75d-92c2af239cc6",
   "metadata": {},
   "outputs": [],
   "source": [
    "arr=np.array([12,23,3,45,56,67,78])"
   ]
  },
  {
   "cell_type": "code",
   "execution_count": 89,
   "id": "81381a43-736e-4b78-b87b-6a73f954ab73",
   "metadata": {},
   "outputs": [],
   "source": [
    "# np.where(object with condition)    uses comparison operators ==,!=,<,>,<=,>="
   ]
  },
  {
   "cell_type": "code",
   "execution_count": 91,
   "id": "bb07436b-0d79-497f-a551-8774400022b4",
   "metadata": {},
   "outputs": [
    {
     "data": {
      "text/plain": [
       "(array([], dtype=int64),)"
      ]
     },
     "execution_count": 91,
     "metadata": {},
     "output_type": "execute_result"
    }
   ],
   "source": [
    "np.where(arr1==56)"
   ]
  },
  {
   "cell_type": "code",
   "execution_count": 93,
   "id": "02c74c37-863a-416f-a53f-bf15b6d991f5",
   "metadata": {},
   "outputs": [
    {
     "data": {
      "text/plain": [
       "(array([4]),)"
      ]
     },
     "execution_count": 93,
     "metadata": {},
     "output_type": "execute_result"
    }
   ],
   "source": [
    "np.where(arr==56)"
   ]
  },
  {
   "cell_type": "code",
   "execution_count": 95,
   "id": "d99f1191-ea93-46ac-b781-f5cef979c273",
   "metadata": {},
   "outputs": [
    {
     "data": {
      "text/plain": [
       "(array([5, 6]),)"
      ]
     },
     "execution_count": 95,
     "metadata": {},
     "output_type": "execute_result"
    }
   ],
   "source": [
    "np.where(arr>56)"
   ]
  },
  {
   "cell_type": "code",
   "execution_count": 97,
   "id": "52dc0708-797c-43eb-a441-e38d96bd73a8",
   "metadata": {},
   "outputs": [],
   "source": [
    "# range is in python is used in numpy as arange()\n",
    "# np.arange(start, end , increment)\n",
    "# start=0\n",
    "# end =n-1\n",
    "# increment=1"
   ]
  },
  {
   "cell_type": "code",
   "execution_count": 99,
   "id": "f197331d-dd7b-4524-a838-2b34644bafb9",
   "metadata": {},
   "outputs": [
    {
     "data": {
      "text/plain": [
       "array([1, 2, 3, 4])"
      ]
     },
     "execution_count": 99,
     "metadata": {},
     "output_type": "execute_result"
    }
   ],
   "source": [
    "arr=np.arange(1,5)\n",
    "arr"
   ]
  },
  {
   "cell_type": "code",
   "execution_count": null,
   "id": "c8bfbd44-0aad-43c9-9765-f50d3d51e3d1",
   "metadata": {},
   "outputs": [],
   "source": []
  },
  {
   "cell_type": "code",
   "execution_count": null,
   "id": "3893b110-b37f-4e0e-be4f-208427540ccc",
   "metadata": {},
   "outputs": [],
   "source": []
  },
  {
   "cell_type": "code",
   "execution_count": null,
   "id": "4208b448-62d4-4289-ab58-c71e7a48c7c8",
   "metadata": {},
   "outputs": [],
   "source": []
  }
 ],
 "metadata": {
  "kernelspec": {
   "display_name": "Python 3 (ipykernel)",
   "language": "python",
   "name": "python3"
  },
  "language_info": {
   "codemirror_mode": {
    "name": "ipython",
    "version": 3
   },
   "file_extension": ".py",
   "mimetype": "text/x-python",
   "name": "python",
   "nbconvert_exporter": "python",
   "pygments_lexer": "ipython3",
   "version": "3.11.7"
  }
 },
 "nbformat": 4,
 "nbformat_minor": 5
}
