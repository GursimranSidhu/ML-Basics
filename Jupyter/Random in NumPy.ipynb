{
 "cells": [
  {
   "cell_type": "code",
   "execution_count": 1,
   "id": "540c515c-0296-4cbc-82e7-09348ca40efe",
   "metadata": {},
   "outputs": [],
   "source": [
    "import numpy as np\n",
    "from numpy import random"
   ]
  },
  {
   "cell_type": "code",
   "execution_count": 3,
   "id": "a5811edc-d2d4-4ffb-bbeb-f07a0d941c19",
   "metadata": {},
   "outputs": [],
   "source": [
    "#  randint()--->generates elements in specific range"
   ]
  },
  {
   "cell_type": "code",
   "execution_count": 5,
   "id": "26c2d37e-48dc-4c35-ad3e-38f116cdfa4c",
   "metadata": {},
   "outputs": [
    {
     "data": {
      "text/plain": [
       "7"
      ]
     },
     "execution_count": 5,
     "metadata": {},
     "output_type": "execute_result"
    }
   ],
   "source": [
    "zx=random.randint(100)\n",
    "zx"
   ]
  },
  {
   "cell_type": "code",
   "execution_count": 7,
   "id": "638eab2e-5884-44f5-886b-ebd4e59e1242",
   "metadata": {},
   "outputs": [
    {
     "data": {
      "text/plain": [
       "42"
      ]
     },
     "execution_count": 7,
     "metadata": {},
     "output_type": "execute_result"
    }
   ],
   "source": [
    "zx=random.randint(10,60)\n",
    "zx"
   ]
  },
  {
   "cell_type": "code",
   "execution_count": 9,
   "id": "ea709586-8cab-49da-a19e-95e51386f54b",
   "metadata": {},
   "outputs": [],
   "source": [
    "# size parameter in random"
   ]
  },
  {
   "cell_type": "code",
   "execution_count": 11,
   "id": "8cf56714-60d1-4ba5-9f78-285e7b4e61b6",
   "metadata": {},
   "outputs": [
    {
     "data": {
      "text/plain": [
       "array([[13, 18],\n",
       "       [12, 19]])"
      ]
     },
     "execution_count": 11,
     "metadata": {},
     "output_type": "execute_result"
    }
   ],
   "source": [
    "zx=random.randint(10,20,size=(2,2))\n",
    "zx"
   ]
  },
  {
   "cell_type": "code",
   "execution_count": 13,
   "id": "35a75b9b-d510-46b8-93cf-3be5b65c5375",
   "metadata": {},
   "outputs": [
    {
     "data": {
      "text/plain": [
       "array([[[73, 33, 64, 75],\n",
       "        [90, 25, 43, 55],\n",
       "        [43, 72, 88, 56]],\n",
       "\n",
       "       [[69, 49, 27, 61],\n",
       "        [62, 32, 46, 15],\n",
       "        [73, 69, 25, 33]]])"
      ]
     },
     "execution_count": 13,
     "metadata": {},
     "output_type": "execute_result"
    }
   ],
   "source": [
    "pq=random.randint(10,100,size=(2,3,4))\n",
    "pq"
   ]
  },
  {
   "cell_type": "code",
   "execution_count": 15,
   "id": "10997ec8-3d4b-407c-88ea-af7a7d6716df",
   "metadata": {},
   "outputs": [],
   "source": [
    "# rand()--> generates elements in range from 0 to 1"
   ]
  },
  {
   "cell_type": "code",
   "execution_count": 17,
   "id": "f963f2f8-382e-43db-b8b7-ce668cbe160d",
   "metadata": {},
   "outputs": [],
   "source": [
    "x=random.rand(10)"
   ]
  },
  {
   "cell_type": "code",
   "execution_count": 19,
   "id": "6d8a2c43-cdba-4d29-857c-4dd627345274",
   "metadata": {},
   "outputs": [
    {
     "data": {
      "text/plain": [
       "array([0.45874654, 0.62862035, 0.82152979, 0.71474918, 0.87536184,\n",
       "       0.99271014, 0.71222896, 0.34704338, 0.00995532, 0.66098573])"
      ]
     },
     "execution_count": 19,
     "metadata": {},
     "output_type": "execute_result"
    }
   ],
   "source": [
    "x"
   ]
  },
  {
   "cell_type": "code",
   "execution_count": 21,
   "id": "d8eede08-df47-4627-bda0-52eee093da6b",
   "metadata": {},
   "outputs": [
    {
     "data": {
      "text/plain": [
       "array([[0.45185664, 0.98029474],\n",
       "       [0.68834052, 0.53311259],\n",
       "       [0.56494701, 0.61864162],\n",
       "       [0.61619782, 0.43707589]])"
      ]
     },
     "execution_count": 21,
     "metadata": {},
     "output_type": "execute_result"
    }
   ],
   "source": [
    "x=random.rand(4,2)\n",
    "x"
   ]
  },
  {
   "cell_type": "code",
   "execution_count": 27,
   "id": "3c12a85c-2dab-4915-99ef-ed0bccf8d602",
   "metadata": {},
   "outputs": [],
   "source": [
    "#  random"
   ]
  },
  {
   "cell_type": "code",
   "execution_count": 29,
   "id": "83a1f72c-0bd8-45b9-bf47-d99b53687ea1",
   "metadata": {},
   "outputs": [],
   "source": [
    "pq=random.random()"
   ]
  },
  {
   "cell_type": "code",
   "execution_count": 31,
   "id": "9e58c165-a9d3-49cc-ab71-e53645167a17",
   "metadata": {},
   "outputs": [
    {
     "data": {
      "text/plain": [
       "0.3921136672126184"
      ]
     },
     "execution_count": 31,
     "metadata": {},
     "output_type": "execute_result"
    }
   ],
   "source": [
    "pq"
   ]
  },
  {
   "cell_type": "code",
   "execution_count": 33,
   "id": "9bf909f4-ab9b-43d6-93f5-401c1cc1b7f1",
   "metadata": {},
   "outputs": [],
   "source": [
    "# choice"
   ]
  },
  {
   "cell_type": "code",
   "execution_count": 35,
   "id": "2acf65ac-5f7e-4804-9cdf-7f97378de9c9",
   "metadata": {},
   "outputs": [
    {
     "data": {
      "text/plain": [
       "3"
      ]
     },
     "execution_count": 35,
     "metadata": {},
     "output_type": "execute_result"
    }
   ],
   "source": [
    "ab=random.choice([1,2,3,4,5])\n",
    "ab"
   ]
  },
  {
   "cell_type": "code",
   "execution_count": 37,
   "id": "52c1657e-e3de-4d16-a41e-02f1a95e9d5a",
   "metadata": {},
   "outputs": [],
   "source": [
    "zx=random.choice([1,2,3,4,5,6,7,8,9],size=(2,3))"
   ]
  },
  {
   "cell_type": "code",
   "execution_count": 39,
   "id": "8ea3f9a5-4c34-4ec6-9083-d588b88ec455",
   "metadata": {},
   "outputs": [
    {
     "data": {
      "text/plain": [
       "array([[4, 4, 6],\n",
       "       [1, 6, 2]])"
      ]
     },
     "execution_count": 39,
     "metadata": {},
     "output_type": "execute_result"
    }
   ],
   "source": [
    "zx"
   ]
  },
  {
   "cell_type": "code",
   "execution_count": 41,
   "id": "3444a94c-1e5e-4fda-98b6-09b667a1dc8e",
   "metadata": {},
   "outputs": [],
   "source": [
    "# shuffle"
   ]
  },
  {
   "cell_type": "code",
   "execution_count": 43,
   "id": "504efd7a-791d-42c2-ae51-ee1ef83b7848",
   "metadata": {},
   "outputs": [
    {
     "data": {
      "text/plain": [
       "array([3, 2, 1, 5, 6, 4])"
      ]
     },
     "execution_count": 43,
     "metadata": {},
     "output_type": "execute_result"
    }
   ],
   "source": [
    "zx=np.array([1,2,3,4,5,6])\n",
    "random.shuffle(zx)\n",
    "zx"
   ]
  }
 ],
 "metadata": {
  "kernelspec": {
   "display_name": "Python 3 (ipykernel)",
   "language": "python",
   "name": "python3"
  },
  "language_info": {
   "codemirror_mode": {
    "name": "ipython",
    "version": 3
   },
   "file_extension": ".py",
   "mimetype": "text/x-python",
   "name": "python",
   "nbconvert_exporter": "python",
   "pygments_lexer": "ipython3",
   "version": "3.11.7"
  }
 },
 "nbformat": 4,
 "nbformat_minor": 5
}
