{
 "cells": [
  {
   "cell_type": "code",
   "execution_count": 13,
   "id": "decde1d6-a8fa-40ae-a044-d7a686e8ee72",
   "metadata": {},
   "outputs": [
    {
     "data": {
      "text/plain": [
       "numpy.ndarray"
      ]
     },
     "execution_count": 13,
     "metadata": {},
     "output_type": "execute_result"
    }
   ],
   "source": [
    "import numpy as np\n",
    "x = np.array(100)\n",
    "type(x)"
   ]
  },
  {
   "cell_type": "code",
   "execution_count": 17,
   "id": "dd7640b8-a74b-4a53-aff0-4c3641d77f7f",
   "metadata": {},
   "outputs": [
    {
     "data": {
      "text/plain": [
       "array(100)"
      ]
     },
     "execution_count": 17,
     "metadata": {},
     "output_type": "execute_result"
    }
   ],
   "source": [
    "x"
   ]
  },
  {
   "cell_type": "code",
   "execution_count": 5,
   "id": "ad01b616-4851-4be0-8cc7-61fd8a5a0b3d",
   "metadata": {},
   "outputs": [
    {
     "data": {
      "text/plain": [
       "int"
      ]
     },
     "execution_count": 5,
     "metadata": {},
     "output_type": "execute_result"
    }
   ],
   "source": [
    "y=20\n",
    "type(y)"
   ]
  },
  {
   "cell_type": "markdown",
   "id": "50301e80-9d0d-4c3a-b1f4-e2540f253614",
   "metadata": {},
   "source": [
    "#### 1 D array"
   ]
  },
  {
   "cell_type": "code",
   "execution_count": 15,
   "id": "7eed1e01-c34a-403a-96d5-7ddbdd31dc5e",
   "metadata": {},
   "outputs": [
    {
     "data": {
      "text/plain": [
       "array([1, 2, 3, 4])"
      ]
     },
     "execution_count": 15,
     "metadata": {},
     "output_type": "execute_result"
    }
   ],
   "source": [
    "y=np.array([1,2,3,4])\n",
    "y"
   ]
  },
  {
   "cell_type": "code",
   "execution_count": 33,
   "id": "8c0bfe6b-dcd9-4cde-9926-9568ad33c41f",
   "metadata": {},
   "outputs": [
    {
     "data": {
      "text/plain": [
       "1"
      ]
     },
     "execution_count": 33,
     "metadata": {},
     "output_type": "execute_result"
    }
   ],
   "source": [
    "y.ndim"
   ]
  },
  {
   "cell_type": "code",
   "execution_count": 35,
   "id": "a9a21756-b0c8-41f0-bd99-afecaf22f2a6",
   "metadata": {},
   "outputs": [
    {
     "data": {
      "text/plain": [
       "(4,)"
      ]
     },
     "execution_count": 35,
     "metadata": {},
     "output_type": "execute_result"
    }
   ],
   "source": [
    "y.shape"
   ]
  },
  {
   "cell_type": "markdown",
   "id": "499a0656-637e-42dd-b895-232200d307d5",
   "metadata": {},
   "source": [
    "#### 2 D array"
   ]
  },
  {
   "cell_type": "code",
   "execution_count": 29,
   "id": "b9db751a-5346-4662-8726-b214a4171222",
   "metadata": {},
   "outputs": [
    {
     "data": {
      "text/plain": [
       "array([[ 2,  3,  4,  5],\n",
       "       [67, 78, 89, 90]])"
      ]
     },
     "execution_count": 29,
     "metadata": {},
     "output_type": "execute_result"
    }
   ],
   "source": [
    "arr1=np.array([[2,3,4,5],[67,78,89,90]])\n",
    "arr1"
   ]
  },
  {
   "cell_type": "code",
   "execution_count": 31,
   "id": "1c0b4416-38b7-44f4-a055-c7ec39e53a1f",
   "metadata": {},
   "outputs": [
    {
     "data": {
      "text/plain": [
       "2"
      ]
     },
     "execution_count": 31,
     "metadata": {},
     "output_type": "execute_result"
    }
   ],
   "source": [
    "arr1.ndim"
   ]
  },
  {
   "cell_type": "code",
   "execution_count": 37,
   "id": "0adba962-ac1a-4178-b9f2-dcda868d1dd3",
   "metadata": {},
   "outputs": [
    {
     "data": {
      "text/plain": [
       "(2, 4)"
      ]
     },
     "execution_count": 37,
     "metadata": {},
     "output_type": "execute_result"
    }
   ],
   "source": [
    "arr1.shape"
   ]
  },
  {
   "cell_type": "code",
   "execution_count": 41,
   "id": "b4b3df06-160f-4be2-a69d-13bac62cfa4d",
   "metadata": {},
   "outputs": [
    {
     "data": {
      "text/plain": [
       "array([[12, 23, 34, 45],\n",
       "       [67, 24, 46, 27],\n",
       "       [98, 87, 65, 54]])"
      ]
     },
     "execution_count": 41,
     "metadata": {},
     "output_type": "execute_result"
    }
   ],
   "source": [
    "arr2=np.array([[12,23,34,45],[67,24,46,27],[98,87,65,54]])\n",
    "arr2"
   ]
  },
  {
   "cell_type": "code",
   "execution_count": 43,
   "id": "c0d0a5ab-2159-4b6e-bcd1-50d916809436",
   "metadata": {},
   "outputs": [
    {
     "data": {
      "text/plain": [
       "2"
      ]
     },
     "execution_count": 43,
     "metadata": {},
     "output_type": "execute_result"
    }
   ],
   "source": [
    "arr2.ndim"
   ]
  },
  {
   "cell_type": "code",
   "execution_count": 45,
   "id": "711a0476-0677-42a9-b662-d3cc66783281",
   "metadata": {},
   "outputs": [
    {
     "data": {
      "text/plain": [
       "(3, 4)"
      ]
     },
     "execution_count": 45,
     "metadata": {},
     "output_type": "execute_result"
    }
   ],
   "source": [
    "arr2.shape"
   ]
  },
  {
   "cell_type": "markdown",
   "id": "4ced60d3-4be9-450c-96e5-23cd3f9794eb",
   "metadata": {},
   "source": [
    "#### 3 D array"
   ]
  },
  {
   "cell_type": "code",
   "execution_count": 50,
   "id": "870e2311-d160-4f1c-8155-46df07f7548c",
   "metadata": {},
   "outputs": [
    {
     "data": {
      "text/plain": [
       "array([[[ 1,  2,  3,  4],\n",
       "        [ 5,  6,  7,  8],\n",
       "        [11, 12, 13, 14]],\n",
       "\n",
       "       [[15, 16, 17, 18],\n",
       "        [19, 20, 21, 22],\n",
       "        [23, 24, 25, 26]]])"
      ]
     },
     "execution_count": 50,
     "metadata": {},
     "output_type": "execute_result"
    }
   ],
   "source": [
    "arr3=np.array([[[1,2,3,4],[5,6,7,8],[11,12,13,14]],[[15,16,17,18],[19,20,21,22],[23,24,25,26]]])\n",
    "arr3"
   ]
  },
  {
   "cell_type": "code",
   "execution_count": 54,
   "id": "db25c8cb-e2dd-4dde-b679-8425976c509f",
   "metadata": {},
   "outputs": [
    {
     "data": {
      "text/plain": [
       "3"
      ]
     },
     "execution_count": 54,
     "metadata": {},
     "output_type": "execute_result"
    }
   ],
   "source": [
    "arr3.ndim"
   ]
  },
  {
   "cell_type": "code",
   "execution_count": 56,
   "id": "800b0423-d412-47c6-9495-764a7e78d859",
   "metadata": {},
   "outputs": [
    {
     "data": {
      "text/plain": [
       "(2, 3, 4)"
      ]
     },
     "execution_count": 56,
     "metadata": {},
     "output_type": "execute_result"
    }
   ],
   "source": [
    "arr3.shape"
   ]
  },
  {
   "cell_type": "markdown",
   "id": "a36e88a1-7f4b-411a-972a-ab632d82e2dd",
   "metadata": {},
   "source": [
    "### INDEXING AND SLICING OF ARRAYS"
   ]
  },
  {
   "cell_type": "markdown",
   "id": "ae9573f7-962b-41eb-be7c-32459f0a103f",
   "metadata": {},
   "source": [
    "#### Indexing and slicing of 1D array"
   ]
  },
  {
   "cell_type": "code",
   "execution_count": 70,
   "id": "f287b252-eb59-452e-a0b1-d6490c370db9",
   "metadata": {},
   "outputs": [
    {
     "data": {
      "text/plain": [
       "3"
      ]
     },
     "execution_count": 70,
     "metadata": {},
     "output_type": "execute_result"
    }
   ],
   "source": [
    "arr1=np.array([1,2,3,4,5,6])\n",
    "arr1[2]"
   ]
  },
  {
   "cell_type": "markdown",
   "id": "84e926de-75d3-40e6-8ac2-069611fbe223",
   "metadata": {},
   "source": [
    "##### syntax[starting index: n-1: increment]"
   ]
  },
  {
   "cell_type": "code",
   "execution_count": 74,
   "id": "00a875c8-2185-4876-958e-643f0e387752",
   "metadata": {},
   "outputs": [
    {
     "data": {
      "text/plain": [
       "array([2, 3, 4])"
      ]
     },
     "execution_count": 74,
     "metadata": {},
     "output_type": "execute_result"
    }
   ],
   "source": [
    "arr1[1:4:1]"
   ]
  },
  {
   "cell_type": "code",
   "execution_count": 77,
   "id": "5ba7c352-3e2c-4c54-919e-01f740b48236",
   "metadata": {},
   "outputs": [
    {
     "data": {
      "text/plain": [
       "array([2, 4, 6])"
      ]
     },
     "execution_count": 77,
     "metadata": {},
     "output_type": "execute_result"
    }
   ],
   "source": [
    "arr1[1:6:2]"
   ]
  },
  {
   "cell_type": "code",
   "execution_count": 79,
   "id": "14f0d88d-353a-4322-ba6b-d303e572c344",
   "metadata": {},
   "outputs": [
    {
     "data": {
      "text/plain": [
       "array([1, 2, 3, 4])"
      ]
     },
     "execution_count": 79,
     "metadata": {},
     "output_type": "execute_result"
    }
   ],
   "source": [
    "arr1[:4]"
   ]
  },
  {
   "cell_type": "code",
   "execution_count": 83,
   "id": "f76bd209-36c0-4d3d-9d49-0aac9040897e",
   "metadata": {},
   "outputs": [
    {
     "data": {
      "text/plain": [
       "array([3, 4, 5, 6])"
      ]
     },
     "execution_count": 83,
     "metadata": {},
     "output_type": "execute_result"
    }
   ],
   "source": [
    "arr1[2:]"
   ]
  },
  {
   "cell_type": "markdown",
   "id": "92b1dbd5-e807-4463-a7ef-fe487fde5aa4",
   "metadata": {},
   "source": [
    "#### Indexing and slicing of 2D array"
   ]
  },
  {
   "cell_type": "code",
   "execution_count": 87,
   "id": "65090399-52c7-43fb-80f9-801ee644987a",
   "metadata": {},
   "outputs": [
    {
     "data": {
      "text/plain": [
       "array([[1, 2, 3, 4],\n",
       "       [5, 6, 7, 8]])"
      ]
     },
     "execution_count": 87,
     "metadata": {},
     "output_type": "execute_result"
    }
   ],
   "source": [
    "arr2=np.array([[1,2,3,4],[5,6,7,8]])\n",
    "arr2"
   ]
  },
  {
   "cell_type": "code",
   "execution_count": 89,
   "id": "67fdc009-ee23-496c-ba89-e3e9d39a9b4c",
   "metadata": {},
   "outputs": [
    {
     "data": {
      "text/plain": [
       "7"
      ]
     },
     "execution_count": 89,
     "metadata": {},
     "output_type": "execute_result"
    }
   ],
   "source": [
    "arr2[1][2]"
   ]
  },
  {
   "cell_type": "code",
   "execution_count": 91,
   "id": "95c463b6-c59b-4039-833f-c92f1a7efe99",
   "metadata": {},
   "outputs": [
    {
     "data": {
      "text/plain": [
       "array([6, 7, 8])"
      ]
     },
     "execution_count": 91,
     "metadata": {},
     "output_type": "execute_result"
    }
   ],
   "source": [
    "arr2[1][1:4:1]"
   ]
  },
  {
   "cell_type": "markdown",
   "id": "c84c0220-6fd9-44e8-a5ab-3d9b6abedb37",
   "metadata": {},
   "source": [
    "#### Indexing and slicing of 3D array"
   ]
  },
  {
   "cell_type": "code",
   "execution_count": 94,
   "id": "8fd34d76-a3e3-48dc-b5de-596f88f249fd",
   "metadata": {},
   "outputs": [
    {
     "data": {
      "text/plain": [
       "array([[[ 1,  2,  3],\n",
       "        [ 4,  5,  6]],\n",
       "\n",
       "       [[ 7,  8,  9],\n",
       "        [10, 11, 12]]])"
      ]
     },
     "execution_count": 94,
     "metadata": {},
     "output_type": "execute_result"
    }
   ],
   "source": [
    "arr3=np.array([[[1,2,3],[4,5,6]],[[7,8,9],[10,11,12]]])\n",
    "arr3"
   ]
  },
  {
   "cell_type": "code",
   "execution_count": 96,
   "id": "d82e3890-24b3-4f45-bd49-f3cdaea1457d",
   "metadata": {},
   "outputs": [
    {
     "data": {
      "text/plain": [
       "9"
      ]
     },
     "execution_count": 96,
     "metadata": {},
     "output_type": "execute_result"
    }
   ],
   "source": [
    "arr3[1][0][2]"
   ]
  },
  {
   "cell_type": "code",
   "execution_count": null,
   "id": "fa41bc83-24cd-47b7-9e37-d23d84140d6a",
   "metadata": {},
   "outputs": [],
   "source": []
  }
 ],
 "metadata": {
  "kernelspec": {
   "display_name": "Python 3 (ipykernel)",
   "language": "python",
   "name": "python3"
  },
  "language_info": {
   "codemirror_mode": {
    "name": "ipython",
    "version": 3
   },
   "file_extension": ".py",
   "mimetype": "text/x-python",
   "name": "python",
   "nbconvert_exporter": "python",
   "pygments_lexer": "ipython3",
   "version": "3.11.7"
  }
 },
 "nbformat": 4,
 "nbformat_minor": 5
}
